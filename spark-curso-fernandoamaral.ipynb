{
 "cells": [
  {
   "cell_type": "code",
   "execution_count": 1,
   "id": "80c2e0fb",
   "metadata": {},
   "outputs": [],
   "source": [
    "import findspark\n",
    "findspark.init()\n",
    "import pyspark"
   ]
  },
  {
   "cell_type": "code",
   "execution_count": 2,
   "id": "9da81714",
   "metadata": {},
   "outputs": [],
   "source": [
    "from pyspark.sql import SparkSession"
   ]
  },
  {
   "cell_type": "code",
   "execution_count": 3,
   "id": "1374daf7",
   "metadata": {},
   "outputs": [],
   "source": [
    "from pyspark.sql.types import * "
   ]
  },
  {
   "cell_type": "markdown",
   "id": "1a10d743",
   "metadata": {},
   "source": [
    "# Verificando os bancos de dados"
   ]
  },
  {
   "cell_type": "code",
   "execution_count": 4,
   "id": "36a3669f",
   "metadata": {},
   "outputs": [
    {
     "name": "stderr",
     "output_type": "stream",
     "text": [
      "22/03/16 22:12:24 WARN HiveConf: HiveConf of name hive.stats.jdbc.timeout does not exist\n",
      "22/03/16 22:12:24 WARN HiveConf: HiveConf of name hive.stats.retries.wait does not exist\n",
      "22/03/16 22:12:32 WARN ObjectStore: Version information not found in metastore. hive.metastore.schema.verification is not enabled so recording the schema version 2.3.0\n",
      "22/03/16 22:12:32 WARN ObjectStore: setMetaStoreSchemaVersion called but recording version is disabled: version = 2.3.0, comment = Set by MetaStore bruno@127.0.1.1\n"
     ]
    },
    {
     "name": "stdout",
     "output_type": "stream",
     "text": [
      "+---------+\n",
      "|namespace|\n",
      "+---------+\n",
      "|  default|\n",
      "|     desp|\n",
      "+---------+\n",
      "\n"
     ]
    }
   ],
   "source": [
    "spark.sql(\"show databases\").show()"
   ]
  },
  {
   "cell_type": "markdown",
   "id": "2f508232",
   "metadata": {},
   "source": [
    "# Criando um banco de dados"
   ]
  },
  {
   "cell_type": "code",
   "execution_count": 5,
   "id": "f4f1275b",
   "metadata": {},
   "outputs": [],
   "source": [
    "# banco de dados já criado spark.sql(\"create database desp\")"
   ]
  },
  {
   "cell_type": "code",
   "execution_count": 6,
   "id": "0bdd25a5",
   "metadata": {},
   "outputs": [
    {
     "name": "stdout",
     "output_type": "stream",
     "text": [
      "+---------+\n",
      "|namespace|\n",
      "+---------+\n",
      "|  default|\n",
      "|     desp|\n",
      "+---------+\n",
      "\n"
     ]
    }
   ],
   "source": [
    "spark.sql(\"show databases\").show()"
   ]
  },
  {
   "cell_type": "code",
   "execution_count": 7,
   "id": "1b520fa6",
   "metadata": {},
   "outputs": [
    {
     "name": "stdout",
     "output_type": "stream",
     "text": [
      "++\n",
      "||\n",
      "++\n",
      "++\n",
      "\n"
     ]
    },
    {
     "name": "stderr",
     "output_type": "stream",
     "text": [
      "22/03/16 22:12:37 WARN ObjectStore: Failed to get database global_temp, returning NoSuchObjectException\n"
     ]
    }
   ],
   "source": [
    "spark.sql(\"use desp\").show()"
   ]
  },
  {
   "cell_type": "markdown",
   "id": "de70b689",
   "metadata": {},
   "source": [
    "# Criando o dataframe despachantes"
   ]
  },
  {
   "cell_type": "code",
   "execution_count": 8,
   "id": "84ece357",
   "metadata": {},
   "outputs": [],
   "source": [
    "arqschema = 'id INT, nome STRING, status STRING, cidade STRING, vendas INT, data STRING'"
   ]
  },
  {
   "cell_type": "code",
   "execution_count": 9,
   "id": "f9a785ca",
   "metadata": {},
   "outputs": [],
   "source": [
    "despachantes = spark.read.csv('download/despachantes.csv', header=False, schema=arqschema)"
   ]
  },
  {
   "cell_type": "code",
   "execution_count": 10,
   "id": "72f0330d",
   "metadata": {},
   "outputs": [
    {
     "name": "stderr",
     "output_type": "stream",
     "text": [
      "\r",
      "[Stage 0:>                                                          (0 + 1) / 1]\r"
     ]
    },
    {
     "name": "stdout",
     "output_type": "stream",
     "text": [
      "+---+-------------------+------+-------------+------+----------+\n",
      "| id|               nome|status|       cidade|vendas|      data|\n",
      "+---+-------------------+------+-------------+------+----------+\n",
      "|  1|   Carminda Pestana| Ativo|  Santa Maria|    23|2020-08-11|\n",
      "|  2|    Deolinda Vilela| Ativo|Novo Hamburgo|    34|2020-03-05|\n",
      "|  3|   Emídio Dornelles| Ativo| Porto Alegre|    34|2020-02-05|\n",
      "|  4|Felisbela Dornelles| Ativo| Porto Alegre|    36|2020-02-05|\n",
      "|  5|     Graça Ornellas| Ativo| Porto Alegre|    12|2020-02-05|\n",
      "|  6|   Matilde Rebouças| Ativo| Porto Alegre|    22|2019-01-05|\n",
      "|  7|    Noêmia   Orriça| Ativo|  Santa Maria|    45|2019-10-05|\n",
      "|  8|      Roque Vásquez| Ativo| Porto Alegre|    65|2020-03-05|\n",
      "|  9|      Uriel Queiroz| Ativo| Porto Alegre|    54|2018-05-05|\n",
      "| 10|   Viviana Sequeira| Ativo| Porto Alegre|     0|2020-09-05|\n",
      "+---+-------------------+------+-------------+------+----------+\n",
      "\n"
     ]
    },
    {
     "name": "stderr",
     "output_type": "stream",
     "text": [
      "\r",
      "[Stage 0:===========================================================(1 + 0) / 1]\r",
      "\r",
      "                                                                                \r"
     ]
    }
   ],
   "source": [
    "despachantes.show()"
   ]
  },
  {
   "cell_type": "markdown",
   "id": "3d5d3648",
   "metadata": {},
   "source": [
    "# Salvando o dataframe em uma tabela"
   ]
  },
  {
   "cell_type": "code",
   "execution_count": 11,
   "id": "6e72bdc3",
   "metadata": {},
   "outputs": [
    {
     "name": "stderr",
     "output_type": "stream",
     "text": [
      "22/03/16 22:12:48 WARN SessionState: METASTORE_FILTER_HOOK will be ignored, since hive.security.authorization.manager is set to instance of HiveAuthorizerFactory.\n",
      "22/03/16 22:12:48 WARN HiveConf: HiveConf of name hive.internal.ss.authz.settings.applied.marker does not exist\n",
      "22/03/16 22:12:48 WARN HiveConf: HiveConf of name hive.stats.jdbc.timeout does not exist\n",
      "22/03/16 22:12:48 WARN HiveConf: HiveConf of name hive.stats.retries.wait does not exist\n"
     ]
    }
   ],
   "source": [
    "despachantes.write.saveAsTable(\"Despachantes\")"
   ]
  },
  {
   "cell_type": "code",
   "execution_count": 12,
   "id": "c33841d7",
   "metadata": {},
   "outputs": [
    {
     "data": {
      "text/plain": [
       "DataFrame[database: string, tableName: string, isTemporary: boolean]"
      ]
     },
     "execution_count": 12,
     "metadata": {},
     "output_type": "execute_result"
    }
   ],
   "source": [
    "spark.sql(\"show tables\") "
   ]
  },
  {
   "cell_type": "code",
   "execution_count": 13,
   "id": "ca5dda8c",
   "metadata": {},
   "outputs": [
    {
     "name": "stdout",
     "output_type": "stream",
     "text": [
      "+---+-------------------+------+-------------+------+----------+\n",
      "| id|               nome|status|       cidade|vendas|      data|\n",
      "+---+-------------------+------+-------------+------+----------+\n",
      "|  1|   Carminda Pestana| Ativo|  Santa Maria|    23|2020-08-11|\n",
      "|  2|    Deolinda Vilela| Ativo|Novo Hamburgo|    34|2020-03-05|\n",
      "|  3|   Emídio Dornelles| Ativo| Porto Alegre|    34|2020-02-05|\n",
      "|  4|Felisbela Dornelles| Ativo| Porto Alegre|    36|2020-02-05|\n",
      "|  5|     Graça Ornellas| Ativo| Porto Alegre|    12|2020-02-05|\n",
      "|  6|   Matilde Rebouças| Ativo| Porto Alegre|    22|2019-01-05|\n",
      "|  7|    Noêmia   Orriça| Ativo|  Santa Maria|    45|2019-10-05|\n",
      "|  8|      Roque Vásquez| Ativo| Porto Alegre|    65|2020-03-05|\n",
      "|  9|      Uriel Queiroz| Ativo| Porto Alegre|    54|2018-05-05|\n",
      "| 10|   Viviana Sequeira| Ativo| Porto Alegre|     0|2020-09-05|\n",
      "+---+-------------------+------+-------------+------+----------+\n",
      "\n"
     ]
    }
   ],
   "source": [
    "spark.sql(\"select * from despachantes\").show()"
   ]
  },
  {
   "cell_type": "code",
   "execution_count": 14,
   "id": "80f10783",
   "metadata": {},
   "outputs": [
    {
     "name": "stdout",
     "output_type": "stream",
     "text": [
      "+-------------------+------+----------+------+\n",
      "|               nome|status|      data|vendas|\n",
      "+-------------------+------+----------+------+\n",
      "|   Carminda Pestana| Ativo|2020-08-11|    23|\n",
      "|    Deolinda Vilela| Ativo|2020-03-05|    34|\n",
      "|   Emídio Dornelles| Ativo|2020-02-05|    34|\n",
      "|Felisbela Dornelles| Ativo|2020-02-05|    36|\n",
      "|     Graça Ornellas| Ativo|2020-02-05|    12|\n",
      "|   Matilde Rebouças| Ativo|2019-01-05|    22|\n",
      "|    Noêmia   Orriça| Ativo|2019-10-05|    45|\n",
      "|      Roque Vásquez| Ativo|2020-03-05|    65|\n",
      "|      Uriel Queiroz| Ativo|2018-05-05|    54|\n",
      "|   Viviana Sequeira| Ativo|2020-09-05|     0|\n",
      "+-------------------+------+----------+------+\n",
      "\n"
     ]
    }
   ],
   "source": [
    "spark.sql(\"select nome, status, data, vendas from despachantes\").show()"
   ]
  },
  {
   "cell_type": "code",
   "execution_count": 15,
   "id": "16e3076e",
   "metadata": {},
   "outputs": [],
   "source": [
    "despachantes.write.mode('overwrite').saveAsTable(\"Despachantes\")"
   ]
  },
  {
   "cell_type": "code",
   "execution_count": 16,
   "id": "b5d391eb",
   "metadata": {},
   "outputs": [],
   "source": [
    "despachantes = spark.sql(\"select * from despachantes\")"
   ]
  },
  {
   "cell_type": "code",
   "execution_count": 17,
   "id": "574ef869",
   "metadata": {},
   "outputs": [
    {
     "data": {
      "text/html": [
       "<div>\n",
       "<style scoped>\n",
       "    .dataframe tbody tr th:only-of-type {\n",
       "        vertical-align: middle;\n",
       "    }\n",
       "\n",
       "    .dataframe tbody tr th {\n",
       "        vertical-align: top;\n",
       "    }\n",
       "\n",
       "    .dataframe thead th {\n",
       "        text-align: right;\n",
       "    }\n",
       "</style>\n",
       "<table border=\"1\" class=\"dataframe\">\n",
       "  <thead>\n",
       "    <tr style=\"text-align: right;\">\n",
       "      <th></th>\n",
       "      <th>id</th>\n",
       "      <th>nome</th>\n",
       "      <th>status</th>\n",
       "      <th>cidade</th>\n",
       "      <th>vendas</th>\n",
       "      <th>data</th>\n",
       "    </tr>\n",
       "  </thead>\n",
       "  <tbody>\n",
       "    <tr>\n",
       "      <th>0</th>\n",
       "      <td>1</td>\n",
       "      <td>Carminda Pestana</td>\n",
       "      <td>Ativo</td>\n",
       "      <td>Santa Maria</td>\n",
       "      <td>23</td>\n",
       "      <td>2020-08-11</td>\n",
       "    </tr>\n",
       "    <tr>\n",
       "      <th>1</th>\n",
       "      <td>2</td>\n",
       "      <td>Deolinda Vilela</td>\n",
       "      <td>Ativo</td>\n",
       "      <td>Novo Hamburgo</td>\n",
       "      <td>34</td>\n",
       "      <td>2020-03-05</td>\n",
       "    </tr>\n",
       "    <tr>\n",
       "      <th>2</th>\n",
       "      <td>3</td>\n",
       "      <td>Emídio Dornelles</td>\n",
       "      <td>Ativo</td>\n",
       "      <td>Porto Alegre</td>\n",
       "      <td>34</td>\n",
       "      <td>2020-02-05</td>\n",
       "    </tr>\n",
       "    <tr>\n",
       "      <th>3</th>\n",
       "      <td>4</td>\n",
       "      <td>Felisbela Dornelles</td>\n",
       "      <td>Ativo</td>\n",
       "      <td>Porto Alegre</td>\n",
       "      <td>36</td>\n",
       "      <td>2020-02-05</td>\n",
       "    </tr>\n",
       "    <tr>\n",
       "      <th>4</th>\n",
       "      <td>5</td>\n",
       "      <td>Graça Ornellas</td>\n",
       "      <td>Ativo</td>\n",
       "      <td>Porto Alegre</td>\n",
       "      <td>12</td>\n",
       "      <td>2020-02-05</td>\n",
       "    </tr>\n",
       "    <tr>\n",
       "      <th>5</th>\n",
       "      <td>6</td>\n",
       "      <td>Matilde Rebouças</td>\n",
       "      <td>Ativo</td>\n",
       "      <td>Porto Alegre</td>\n",
       "      <td>22</td>\n",
       "      <td>2019-01-05</td>\n",
       "    </tr>\n",
       "    <tr>\n",
       "      <th>6</th>\n",
       "      <td>7</td>\n",
       "      <td>Noêmia   Orriça</td>\n",
       "      <td>Ativo</td>\n",
       "      <td>Santa Maria</td>\n",
       "      <td>45</td>\n",
       "      <td>2019-10-05</td>\n",
       "    </tr>\n",
       "    <tr>\n",
       "      <th>7</th>\n",
       "      <td>8</td>\n",
       "      <td>Roque Vásquez</td>\n",
       "      <td>Ativo</td>\n",
       "      <td>Porto Alegre</td>\n",
       "      <td>65</td>\n",
       "      <td>2020-03-05</td>\n",
       "    </tr>\n",
       "    <tr>\n",
       "      <th>8</th>\n",
       "      <td>9</td>\n",
       "      <td>Uriel Queiroz</td>\n",
       "      <td>Ativo</td>\n",
       "      <td>Porto Alegre</td>\n",
       "      <td>54</td>\n",
       "      <td>2018-05-05</td>\n",
       "    </tr>\n",
       "    <tr>\n",
       "      <th>9</th>\n",
       "      <td>10</td>\n",
       "      <td>Viviana Sequeira</td>\n",
       "      <td>Ativo</td>\n",
       "      <td>Porto Alegre</td>\n",
       "      <td>0</td>\n",
       "      <td>2020-09-05</td>\n",
       "    </tr>\n",
       "  </tbody>\n",
       "</table>\n",
       "</div>"
      ],
      "text/plain": [
       "   id                 nome status         cidade  vendas        data\n",
       "0   1     Carminda Pestana  Ativo    Santa Maria      23  2020-08-11\n",
       "1   2      Deolinda Vilela  Ativo  Novo Hamburgo      34  2020-03-05\n",
       "2   3     Emídio Dornelles  Ativo   Porto Alegre      34  2020-02-05\n",
       "3   4  Felisbela Dornelles  Ativo   Porto Alegre      36  2020-02-05\n",
       "4   5       Graça Ornellas  Ativo   Porto Alegre      12  2020-02-05\n",
       "5   6     Matilde Rebouças  Ativo   Porto Alegre      22  2019-01-05\n",
       "6   7      Noêmia   Orriça  Ativo    Santa Maria      45  2019-10-05\n",
       "7   8        Roque Vásquez  Ativo   Porto Alegre      65  2020-03-05\n",
       "8   9        Uriel Queiroz  Ativo   Porto Alegre      54  2018-05-05\n",
       "9  10     Viviana Sequeira  Ativo   Porto Alegre       0  2020-09-05"
      ]
     },
     "execution_count": 17,
     "metadata": {},
     "output_type": "execute_result"
    }
   ],
   "source": [
    "despachantes.toPandas()"
   ]
  },
  {
   "cell_type": "code",
   "execution_count": 18,
   "id": "16b58387",
   "metadata": {},
   "outputs": [],
   "source": [
    "despachantes.write.format('parquet').mode('overwrite').save('/home/bruno/desparquet')"
   ]
  },
  {
   "cell_type": "code",
   "execution_count": 19,
   "id": "c1de1951",
   "metadata": {},
   "outputs": [],
   "source": [
    "despachantes.write.option('path', '/home/bruno/desparquet').saveAsTable('despachantes_ng')"
   ]
  },
  {
   "cell_type": "code",
   "execution_count": 20,
   "id": "7a0aa963",
   "metadata": {},
   "outputs": [
    {
     "data": {
      "text/html": [
       "<div>\n",
       "<style scoped>\n",
       "    .dataframe tbody tr th:only-of-type {\n",
       "        vertical-align: middle;\n",
       "    }\n",
       "\n",
       "    .dataframe tbody tr th {\n",
       "        vertical-align: top;\n",
       "    }\n",
       "\n",
       "    .dataframe thead th {\n",
       "        text-align: right;\n",
       "    }\n",
       "</style>\n",
       "<table border=\"1\" class=\"dataframe\">\n",
       "  <thead>\n",
       "    <tr style=\"text-align: right;\">\n",
       "      <th></th>\n",
       "      <th>id</th>\n",
       "      <th>nome</th>\n",
       "      <th>status</th>\n",
       "      <th>cidade</th>\n",
       "      <th>vendas</th>\n",
       "      <th>data</th>\n",
       "    </tr>\n",
       "  </thead>\n",
       "  <tbody>\n",
       "    <tr>\n",
       "      <th>0</th>\n",
       "      <td>1</td>\n",
       "      <td>Carminda Pestana</td>\n",
       "      <td>Ativo</td>\n",
       "      <td>Santa Maria</td>\n",
       "      <td>23</td>\n",
       "      <td>2020-08-11</td>\n",
       "    </tr>\n",
       "    <tr>\n",
       "      <th>1</th>\n",
       "      <td>2</td>\n",
       "      <td>Deolinda Vilela</td>\n",
       "      <td>Ativo</td>\n",
       "      <td>Novo Hamburgo</td>\n",
       "      <td>34</td>\n",
       "      <td>2020-03-05</td>\n",
       "    </tr>\n",
       "    <tr>\n",
       "      <th>2</th>\n",
       "      <td>3</td>\n",
       "      <td>Emídio Dornelles</td>\n",
       "      <td>Ativo</td>\n",
       "      <td>Porto Alegre</td>\n",
       "      <td>34</td>\n",
       "      <td>2020-02-05</td>\n",
       "    </tr>\n",
       "    <tr>\n",
       "      <th>3</th>\n",
       "      <td>4</td>\n",
       "      <td>Felisbela Dornelles</td>\n",
       "      <td>Ativo</td>\n",
       "      <td>Porto Alegre</td>\n",
       "      <td>36</td>\n",
       "      <td>2020-02-05</td>\n",
       "    </tr>\n",
       "    <tr>\n",
       "      <th>4</th>\n",
       "      <td>5</td>\n",
       "      <td>Graça Ornellas</td>\n",
       "      <td>Ativo</td>\n",
       "      <td>Porto Alegre</td>\n",
       "      <td>12</td>\n",
       "      <td>2020-02-05</td>\n",
       "    </tr>\n",
       "    <tr>\n",
       "      <th>5</th>\n",
       "      <td>6</td>\n",
       "      <td>Matilde Rebouças</td>\n",
       "      <td>Ativo</td>\n",
       "      <td>Porto Alegre</td>\n",
       "      <td>22</td>\n",
       "      <td>2019-01-05</td>\n",
       "    </tr>\n",
       "    <tr>\n",
       "      <th>6</th>\n",
       "      <td>7</td>\n",
       "      <td>Noêmia   Orriça</td>\n",
       "      <td>Ativo</td>\n",
       "      <td>Santa Maria</td>\n",
       "      <td>45</td>\n",
       "      <td>2019-10-05</td>\n",
       "    </tr>\n",
       "    <tr>\n",
       "      <th>7</th>\n",
       "      <td>8</td>\n",
       "      <td>Roque Vásquez</td>\n",
       "      <td>Ativo</td>\n",
       "      <td>Porto Alegre</td>\n",
       "      <td>65</td>\n",
       "      <td>2020-03-05</td>\n",
       "    </tr>\n",
       "    <tr>\n",
       "      <th>8</th>\n",
       "      <td>9</td>\n",
       "      <td>Uriel Queiroz</td>\n",
       "      <td>Ativo</td>\n",
       "      <td>Porto Alegre</td>\n",
       "      <td>54</td>\n",
       "      <td>2018-05-05</td>\n",
       "    </tr>\n",
       "    <tr>\n",
       "      <th>9</th>\n",
       "      <td>10</td>\n",
       "      <td>Viviana Sequeira</td>\n",
       "      <td>Ativo</td>\n",
       "      <td>Porto Alegre</td>\n",
       "      <td>0</td>\n",
       "      <td>2020-09-05</td>\n",
       "    </tr>\n",
       "  </tbody>\n",
       "</table>\n",
       "</div>"
      ],
      "text/plain": [
       "   id                 nome status         cidade  vendas        data\n",
       "0   1     Carminda Pestana  Ativo    Santa Maria      23  2020-08-11\n",
       "1   2      Deolinda Vilela  Ativo  Novo Hamburgo      34  2020-03-05\n",
       "2   3     Emídio Dornelles  Ativo   Porto Alegre      34  2020-02-05\n",
       "3   4  Felisbela Dornelles  Ativo   Porto Alegre      36  2020-02-05\n",
       "4   5       Graça Ornellas  Ativo   Porto Alegre      12  2020-02-05\n",
       "5   6     Matilde Rebouças  Ativo   Porto Alegre      22  2019-01-05\n",
       "6   7      Noêmia   Orriça  Ativo    Santa Maria      45  2019-10-05\n",
       "7   8        Roque Vásquez  Ativo   Porto Alegre      65  2020-03-05\n",
       "8   9        Uriel Queiroz  Ativo   Porto Alegre      54  2018-05-05\n",
       "9  10     Viviana Sequeira  Ativo   Porto Alegre       0  2020-09-05"
      ]
     },
     "execution_count": 20,
     "metadata": {},
     "output_type": "execute_result"
    }
   ],
   "source": [
    "spark.sql('select * from despachantes_ng').toPandas()"
   ]
  },
  {
   "cell_type": "code",
   "execution_count": 21,
   "id": "27d9cf6a",
   "metadata": {},
   "outputs": [
    {
     "name": "stdout",
     "output_type": "stream",
     "text": [
      "+-------------------------------------------------------------------------------------------------------------------------------------------------------+\n",
      "|createtab_stmt                                                                                                                                         |\n",
      "+-------------------------------------------------------------------------------------------------------------------------------------------------------+\n",
      "|CREATE TABLE `desp`.`Despachantes` (\n",
      "  `id` INT,\n",
      "  `nome` STRING,\n",
      "  `status` STRING,\n",
      "  `cidade` STRING,\n",
      "  `vendas` INT,\n",
      "  `data` STRING)\n",
      "USING parquet\n",
      "|\n",
      "+-------------------------------------------------------------------------------------------------------------------------------------------------------+\n",
      "\n"
     ]
    }
   ],
   "source": [
    "spark.sql('show create table Despachantes').show(truncate=False)"
   ]
  },
  {
   "cell_type": "code",
   "execution_count": 22,
   "id": "64af8c71",
   "metadata": {},
   "outputs": [
    {
     "name": "stdout",
     "output_type": "stream",
     "text": [
      "+-------------------------------------------------------------------------------------------------------------------------------------------------------------------------------------------------+\n",
      "|createtab_stmt                                                                                                                                                                                   |\n",
      "+-------------------------------------------------------------------------------------------------------------------------------------------------------------------------------------------------+\n",
      "|CREATE TABLE `desp`.`despachantes_ng` (\n",
      "  `id` INT,\n",
      "  `nome` STRING,\n",
      "  `status` STRING,\n",
      "  `cidade` STRING,\n",
      "  `vendas` INT,\n",
      "  `data` STRING)\n",
      "USING parquet\n",
      "LOCATION 'file:/home/bruno/desparquet'\n",
      "|\n",
      "+-------------------------------------------------------------------------------------------------------------------------------------------------------------------------------------------------+\n",
      "\n"
     ]
    }
   ],
   "source": [
    "spark.sql('show create table despachantes_ng').show(truncate=False)"
   ]
  },
  {
   "cell_type": "code",
   "execution_count": 23,
   "id": "579ccf30",
   "metadata": {},
   "outputs": [
    {
     "data": {
      "text/plain": [
       "[Table(name='despachantes', database='desp', description=None, tableType='MANAGED', isTemporary=False),\n",
       " Table(name='despachantes_ng', database='desp', description=None, tableType='EXTERNAL', isTemporary=False)]"
      ]
     },
     "execution_count": 23,
     "metadata": {},
     "output_type": "execute_result"
    }
   ],
   "source": [
    "spark.catalog.listTables()"
   ]
  },
  {
   "cell_type": "code",
   "execution_count": 24,
   "id": "fbc19889",
   "metadata": {},
   "outputs": [],
   "source": [
    "# localização dos bancos\n",
    "# /home/bruno/spark_warehouse/desp.db"
   ]
  },
  {
   "cell_type": "markdown",
   "id": "104788ba",
   "metadata": {},
   "source": [
    "# Trabalhando com Views"
   ]
  },
  {
   "cell_type": "code",
   "execution_count": 25,
   "id": "3b4804e5",
   "metadata": {},
   "outputs": [],
   "source": [
    "despachantes.createOrReplaceTempView('Despachantes_view1')"
   ]
  },
  {
   "cell_type": "code",
   "execution_count": 26,
   "id": "37d691a6",
   "metadata": {},
   "outputs": [
    {
     "data": {
      "text/html": [
       "<div>\n",
       "<style scoped>\n",
       "    .dataframe tbody tr th:only-of-type {\n",
       "        vertical-align: middle;\n",
       "    }\n",
       "\n",
       "    .dataframe tbody tr th {\n",
       "        vertical-align: top;\n",
       "    }\n",
       "\n",
       "    .dataframe thead th {\n",
       "        text-align: right;\n",
       "    }\n",
       "</style>\n",
       "<table border=\"1\" class=\"dataframe\">\n",
       "  <thead>\n",
       "    <tr style=\"text-align: right;\">\n",
       "      <th></th>\n",
       "      <th>id</th>\n",
       "      <th>nome</th>\n",
       "      <th>status</th>\n",
       "      <th>cidade</th>\n",
       "      <th>vendas</th>\n",
       "      <th>data</th>\n",
       "    </tr>\n",
       "  </thead>\n",
       "  <tbody>\n",
       "    <tr>\n",
       "      <th>0</th>\n",
       "      <td>1</td>\n",
       "      <td>Carminda Pestana</td>\n",
       "      <td>Ativo</td>\n",
       "      <td>Santa Maria</td>\n",
       "      <td>23</td>\n",
       "      <td>2020-08-11</td>\n",
       "    </tr>\n",
       "    <tr>\n",
       "      <th>1</th>\n",
       "      <td>2</td>\n",
       "      <td>Deolinda Vilela</td>\n",
       "      <td>Ativo</td>\n",
       "      <td>Novo Hamburgo</td>\n",
       "      <td>34</td>\n",
       "      <td>2020-03-05</td>\n",
       "    </tr>\n",
       "    <tr>\n",
       "      <th>2</th>\n",
       "      <td>3</td>\n",
       "      <td>Emídio Dornelles</td>\n",
       "      <td>Ativo</td>\n",
       "      <td>Porto Alegre</td>\n",
       "      <td>34</td>\n",
       "      <td>2020-02-05</td>\n",
       "    </tr>\n",
       "    <tr>\n",
       "      <th>3</th>\n",
       "      <td>4</td>\n",
       "      <td>Felisbela Dornelles</td>\n",
       "      <td>Ativo</td>\n",
       "      <td>Porto Alegre</td>\n",
       "      <td>36</td>\n",
       "      <td>2020-02-05</td>\n",
       "    </tr>\n",
       "    <tr>\n",
       "      <th>4</th>\n",
       "      <td>5</td>\n",
       "      <td>Graça Ornellas</td>\n",
       "      <td>Ativo</td>\n",
       "      <td>Porto Alegre</td>\n",
       "      <td>12</td>\n",
       "      <td>2020-02-05</td>\n",
       "    </tr>\n",
       "    <tr>\n",
       "      <th>5</th>\n",
       "      <td>6</td>\n",
       "      <td>Matilde Rebouças</td>\n",
       "      <td>Ativo</td>\n",
       "      <td>Porto Alegre</td>\n",
       "      <td>22</td>\n",
       "      <td>2019-01-05</td>\n",
       "    </tr>\n",
       "    <tr>\n",
       "      <th>6</th>\n",
       "      <td>7</td>\n",
       "      <td>Noêmia   Orriça</td>\n",
       "      <td>Ativo</td>\n",
       "      <td>Santa Maria</td>\n",
       "      <td>45</td>\n",
       "      <td>2019-10-05</td>\n",
       "    </tr>\n",
       "    <tr>\n",
       "      <th>7</th>\n",
       "      <td>8</td>\n",
       "      <td>Roque Vásquez</td>\n",
       "      <td>Ativo</td>\n",
       "      <td>Porto Alegre</td>\n",
       "      <td>65</td>\n",
       "      <td>2020-03-05</td>\n",
       "    </tr>\n",
       "    <tr>\n",
       "      <th>8</th>\n",
       "      <td>9</td>\n",
       "      <td>Uriel Queiroz</td>\n",
       "      <td>Ativo</td>\n",
       "      <td>Porto Alegre</td>\n",
       "      <td>54</td>\n",
       "      <td>2018-05-05</td>\n",
       "    </tr>\n",
       "    <tr>\n",
       "      <th>9</th>\n",
       "      <td>10</td>\n",
       "      <td>Viviana Sequeira</td>\n",
       "      <td>Ativo</td>\n",
       "      <td>Porto Alegre</td>\n",
       "      <td>0</td>\n",
       "      <td>2020-09-05</td>\n",
       "    </tr>\n",
       "  </tbody>\n",
       "</table>\n",
       "</div>"
      ],
      "text/plain": [
       "   id                 nome status         cidade  vendas        data\n",
       "0   1     Carminda Pestana  Ativo    Santa Maria      23  2020-08-11\n",
       "1   2      Deolinda Vilela  Ativo  Novo Hamburgo      34  2020-03-05\n",
       "2   3     Emídio Dornelles  Ativo   Porto Alegre      34  2020-02-05\n",
       "3   4  Felisbela Dornelles  Ativo   Porto Alegre      36  2020-02-05\n",
       "4   5       Graça Ornellas  Ativo   Porto Alegre      12  2020-02-05\n",
       "5   6     Matilde Rebouças  Ativo   Porto Alegre      22  2019-01-05\n",
       "6   7      Noêmia   Orriça  Ativo    Santa Maria      45  2019-10-05\n",
       "7   8        Roque Vásquez  Ativo   Porto Alegre      65  2020-03-05\n",
       "8   9        Uriel Queiroz  Ativo   Porto Alegre      54  2018-05-05\n",
       "9  10     Viviana Sequeira  Ativo   Porto Alegre       0  2020-09-05"
      ]
     },
     "execution_count": 26,
     "metadata": {},
     "output_type": "execute_result"
    }
   ],
   "source": [
    "spark.sql('select * from Despachantes_view1').toPandas()"
   ]
  },
  {
   "cell_type": "markdown",
   "id": "5768246c",
   "metadata": {},
   "source": [
    "# Criando uma view global"
   ]
  },
  {
   "cell_type": "markdown",
   "id": "b486d2fe",
   "metadata": {},
   "source": [
    "### Criando uma view com script spark"
   ]
  },
  {
   "cell_type": "code",
   "execution_count": 27,
   "id": "3e243f3f",
   "metadata": {},
   "outputs": [],
   "source": [
    "despachantes.createOrReplaceGlobalTempView('despachantes_view2')"
   ]
  },
  {
   "cell_type": "code",
   "execution_count": 28,
   "id": "5a2f6a60",
   "metadata": {},
   "outputs": [
    {
     "data": {
      "text/html": [
       "<div>\n",
       "<style scoped>\n",
       "    .dataframe tbody tr th:only-of-type {\n",
       "        vertical-align: middle;\n",
       "    }\n",
       "\n",
       "    .dataframe tbody tr th {\n",
       "        vertical-align: top;\n",
       "    }\n",
       "\n",
       "    .dataframe thead th {\n",
       "        text-align: right;\n",
       "    }\n",
       "</style>\n",
       "<table border=\"1\" class=\"dataframe\">\n",
       "  <thead>\n",
       "    <tr style=\"text-align: right;\">\n",
       "      <th></th>\n",
       "      <th>id</th>\n",
       "      <th>nome</th>\n",
       "      <th>status</th>\n",
       "      <th>cidade</th>\n",
       "      <th>vendas</th>\n",
       "      <th>data</th>\n",
       "    </tr>\n",
       "  </thead>\n",
       "  <tbody>\n",
       "    <tr>\n",
       "      <th>0</th>\n",
       "      <td>1</td>\n",
       "      <td>Carminda Pestana</td>\n",
       "      <td>Ativo</td>\n",
       "      <td>Santa Maria</td>\n",
       "      <td>23</td>\n",
       "      <td>2020-08-11</td>\n",
       "    </tr>\n",
       "    <tr>\n",
       "      <th>1</th>\n",
       "      <td>2</td>\n",
       "      <td>Deolinda Vilela</td>\n",
       "      <td>Ativo</td>\n",
       "      <td>Novo Hamburgo</td>\n",
       "      <td>34</td>\n",
       "      <td>2020-03-05</td>\n",
       "    </tr>\n",
       "    <tr>\n",
       "      <th>2</th>\n",
       "      <td>3</td>\n",
       "      <td>Emídio Dornelles</td>\n",
       "      <td>Ativo</td>\n",
       "      <td>Porto Alegre</td>\n",
       "      <td>34</td>\n",
       "      <td>2020-02-05</td>\n",
       "    </tr>\n",
       "    <tr>\n",
       "      <th>3</th>\n",
       "      <td>4</td>\n",
       "      <td>Felisbela Dornelles</td>\n",
       "      <td>Ativo</td>\n",
       "      <td>Porto Alegre</td>\n",
       "      <td>36</td>\n",
       "      <td>2020-02-05</td>\n",
       "    </tr>\n",
       "    <tr>\n",
       "      <th>4</th>\n",
       "      <td>5</td>\n",
       "      <td>Graça Ornellas</td>\n",
       "      <td>Ativo</td>\n",
       "      <td>Porto Alegre</td>\n",
       "      <td>12</td>\n",
       "      <td>2020-02-05</td>\n",
       "    </tr>\n",
       "    <tr>\n",
       "      <th>5</th>\n",
       "      <td>6</td>\n",
       "      <td>Matilde Rebouças</td>\n",
       "      <td>Ativo</td>\n",
       "      <td>Porto Alegre</td>\n",
       "      <td>22</td>\n",
       "      <td>2019-01-05</td>\n",
       "    </tr>\n",
       "    <tr>\n",
       "      <th>6</th>\n",
       "      <td>7</td>\n",
       "      <td>Noêmia   Orriça</td>\n",
       "      <td>Ativo</td>\n",
       "      <td>Santa Maria</td>\n",
       "      <td>45</td>\n",
       "      <td>2019-10-05</td>\n",
       "    </tr>\n",
       "    <tr>\n",
       "      <th>7</th>\n",
       "      <td>8</td>\n",
       "      <td>Roque Vásquez</td>\n",
       "      <td>Ativo</td>\n",
       "      <td>Porto Alegre</td>\n",
       "      <td>65</td>\n",
       "      <td>2020-03-05</td>\n",
       "    </tr>\n",
       "    <tr>\n",
       "      <th>8</th>\n",
       "      <td>9</td>\n",
       "      <td>Uriel Queiroz</td>\n",
       "      <td>Ativo</td>\n",
       "      <td>Porto Alegre</td>\n",
       "      <td>54</td>\n",
       "      <td>2018-05-05</td>\n",
       "    </tr>\n",
       "    <tr>\n",
       "      <th>9</th>\n",
       "      <td>10</td>\n",
       "      <td>Viviana Sequeira</td>\n",
       "      <td>Ativo</td>\n",
       "      <td>Porto Alegre</td>\n",
       "      <td>0</td>\n",
       "      <td>2020-09-05</td>\n",
       "    </tr>\n",
       "  </tbody>\n",
       "</table>\n",
       "</div>"
      ],
      "text/plain": [
       "   id                 nome status         cidade  vendas        data\n",
       "0   1     Carminda Pestana  Ativo    Santa Maria      23  2020-08-11\n",
       "1   2      Deolinda Vilela  Ativo  Novo Hamburgo      34  2020-03-05\n",
       "2   3     Emídio Dornelles  Ativo   Porto Alegre      34  2020-02-05\n",
       "3   4  Felisbela Dornelles  Ativo   Porto Alegre      36  2020-02-05\n",
       "4   5       Graça Ornellas  Ativo   Porto Alegre      12  2020-02-05\n",
       "5   6     Matilde Rebouças  Ativo   Porto Alegre      22  2019-01-05\n",
       "6   7      Noêmia   Orriça  Ativo    Santa Maria      45  2019-10-05\n",
       "7   8        Roque Vásquez  Ativo   Porto Alegre      65  2020-03-05\n",
       "8   9        Uriel Queiroz  Ativo   Porto Alegre      54  2018-05-05\n",
       "9  10     Viviana Sequeira  Ativo   Porto Alegre       0  2020-09-05"
      ]
     },
     "execution_count": 28,
     "metadata": {},
     "output_type": "execute_result"
    }
   ],
   "source": [
    "spark.sql('select * from global_temp.Despachantes_view2').toPandas()"
   ]
  },
  {
   "cell_type": "markdown",
   "id": "ce6009e5",
   "metadata": {},
   "source": [
    "### Criando uma view com script sql"
   ]
  },
  {
   "cell_type": "code",
   "execution_count": 29,
   "id": "d9e3b3da",
   "metadata": {},
   "outputs": [
    {
     "data": {
      "text/plain": [
       "DataFrame[]"
      ]
     },
     "execution_count": 29,
     "metadata": {},
     "output_type": "execute_result"
    }
   ],
   "source": [
    "spark.sql('CREATE OR REPLACE TEMP VIEW DESP_VIEW AS select * from despachantes')"
   ]
  },
  {
   "cell_type": "code",
   "execution_count": 30,
   "id": "9b20805e",
   "metadata": {},
   "outputs": [
    {
     "data": {
      "text/html": [
       "<div>\n",
       "<style scoped>\n",
       "    .dataframe tbody tr th:only-of-type {\n",
       "        vertical-align: middle;\n",
       "    }\n",
       "\n",
       "    .dataframe tbody tr th {\n",
       "        vertical-align: top;\n",
       "    }\n",
       "\n",
       "    .dataframe thead th {\n",
       "        text-align: right;\n",
       "    }\n",
       "</style>\n",
       "<table border=\"1\" class=\"dataframe\">\n",
       "  <thead>\n",
       "    <tr style=\"text-align: right;\">\n",
       "      <th></th>\n",
       "      <th>id</th>\n",
       "      <th>nome</th>\n",
       "      <th>status</th>\n",
       "      <th>cidade</th>\n",
       "      <th>vendas</th>\n",
       "      <th>data</th>\n",
       "    </tr>\n",
       "  </thead>\n",
       "  <tbody>\n",
       "    <tr>\n",
       "      <th>0</th>\n",
       "      <td>1</td>\n",
       "      <td>Carminda Pestana</td>\n",
       "      <td>Ativo</td>\n",
       "      <td>Santa Maria</td>\n",
       "      <td>23</td>\n",
       "      <td>2020-08-11</td>\n",
       "    </tr>\n",
       "    <tr>\n",
       "      <th>1</th>\n",
       "      <td>2</td>\n",
       "      <td>Deolinda Vilela</td>\n",
       "      <td>Ativo</td>\n",
       "      <td>Novo Hamburgo</td>\n",
       "      <td>34</td>\n",
       "      <td>2020-03-05</td>\n",
       "    </tr>\n",
       "    <tr>\n",
       "      <th>2</th>\n",
       "      <td>3</td>\n",
       "      <td>Emídio Dornelles</td>\n",
       "      <td>Ativo</td>\n",
       "      <td>Porto Alegre</td>\n",
       "      <td>34</td>\n",
       "      <td>2020-02-05</td>\n",
       "    </tr>\n",
       "    <tr>\n",
       "      <th>3</th>\n",
       "      <td>4</td>\n",
       "      <td>Felisbela Dornelles</td>\n",
       "      <td>Ativo</td>\n",
       "      <td>Porto Alegre</td>\n",
       "      <td>36</td>\n",
       "      <td>2020-02-05</td>\n",
       "    </tr>\n",
       "    <tr>\n",
       "      <th>4</th>\n",
       "      <td>5</td>\n",
       "      <td>Graça Ornellas</td>\n",
       "      <td>Ativo</td>\n",
       "      <td>Porto Alegre</td>\n",
       "      <td>12</td>\n",
       "      <td>2020-02-05</td>\n",
       "    </tr>\n",
       "    <tr>\n",
       "      <th>5</th>\n",
       "      <td>6</td>\n",
       "      <td>Matilde Rebouças</td>\n",
       "      <td>Ativo</td>\n",
       "      <td>Porto Alegre</td>\n",
       "      <td>22</td>\n",
       "      <td>2019-01-05</td>\n",
       "    </tr>\n",
       "    <tr>\n",
       "      <th>6</th>\n",
       "      <td>7</td>\n",
       "      <td>Noêmia   Orriça</td>\n",
       "      <td>Ativo</td>\n",
       "      <td>Santa Maria</td>\n",
       "      <td>45</td>\n",
       "      <td>2019-10-05</td>\n",
       "    </tr>\n",
       "    <tr>\n",
       "      <th>7</th>\n",
       "      <td>8</td>\n",
       "      <td>Roque Vásquez</td>\n",
       "      <td>Ativo</td>\n",
       "      <td>Porto Alegre</td>\n",
       "      <td>65</td>\n",
       "      <td>2020-03-05</td>\n",
       "    </tr>\n",
       "    <tr>\n",
       "      <th>8</th>\n",
       "      <td>9</td>\n",
       "      <td>Uriel Queiroz</td>\n",
       "      <td>Ativo</td>\n",
       "      <td>Porto Alegre</td>\n",
       "      <td>54</td>\n",
       "      <td>2018-05-05</td>\n",
       "    </tr>\n",
       "    <tr>\n",
       "      <th>9</th>\n",
       "      <td>10</td>\n",
       "      <td>Viviana Sequeira</td>\n",
       "      <td>Ativo</td>\n",
       "      <td>Porto Alegre</td>\n",
       "      <td>0</td>\n",
       "      <td>2020-09-05</td>\n",
       "    </tr>\n",
       "  </tbody>\n",
       "</table>\n",
       "</div>"
      ],
      "text/plain": [
       "   id                 nome status         cidade  vendas        data\n",
       "0   1     Carminda Pestana  Ativo    Santa Maria      23  2020-08-11\n",
       "1   2      Deolinda Vilela  Ativo  Novo Hamburgo      34  2020-03-05\n",
       "2   3     Emídio Dornelles  Ativo   Porto Alegre      34  2020-02-05\n",
       "3   4  Felisbela Dornelles  Ativo   Porto Alegre      36  2020-02-05\n",
       "4   5       Graça Ornellas  Ativo   Porto Alegre      12  2020-02-05\n",
       "5   6     Matilde Rebouças  Ativo   Porto Alegre      22  2019-01-05\n",
       "6   7      Noêmia   Orriça  Ativo    Santa Maria      45  2019-10-05\n",
       "7   8        Roque Vásquez  Ativo   Porto Alegre      65  2020-03-05\n",
       "8   9        Uriel Queiroz  Ativo   Porto Alegre      54  2018-05-05\n",
       "9  10     Viviana Sequeira  Ativo   Porto Alegre       0  2020-09-05"
      ]
     },
     "execution_count": 30,
     "metadata": {},
     "output_type": "execute_result"
    }
   ],
   "source": [
    "spark.sql('select * from DESP_VIEW').toPandas()"
   ]
  },
  {
   "cell_type": "code",
   "execution_count": 31,
   "id": "63643245",
   "metadata": {},
   "outputs": [],
   "source": [
    "from pyspark.sql import functions as Func\n",
    "from pyspark.sql.functions import * "
   ]
  },
  {
   "cell_type": "code",
   "execution_count": 32,
   "id": "9b0d16d8",
   "metadata": {},
   "outputs": [
    {
     "data": {
      "text/html": [
       "<div>\n",
       "<style scoped>\n",
       "    .dataframe tbody tr th:only-of-type {\n",
       "        vertical-align: middle;\n",
       "    }\n",
       "\n",
       "    .dataframe tbody tr th {\n",
       "        vertical-align: top;\n",
       "    }\n",
       "\n",
       "    .dataframe thead th {\n",
       "        text-align: right;\n",
       "    }\n",
       "</style>\n",
       "<table border=\"1\" class=\"dataframe\">\n",
       "  <thead>\n",
       "    <tr style=\"text-align: right;\">\n",
       "      <th></th>\n",
       "      <th>id</th>\n",
       "      <th>nome</th>\n",
       "      <th>status</th>\n",
       "      <th>cidade</th>\n",
       "      <th>vendas</th>\n",
       "      <th>data</th>\n",
       "    </tr>\n",
       "  </thead>\n",
       "  <tbody>\n",
       "    <tr>\n",
       "      <th>0</th>\n",
       "      <td>1</td>\n",
       "      <td>Carminda Pestana</td>\n",
       "      <td>Ativo</td>\n",
       "      <td>Santa Maria</td>\n",
       "      <td>23</td>\n",
       "      <td>2020-08-11</td>\n",
       "    </tr>\n",
       "    <tr>\n",
       "      <th>1</th>\n",
       "      <td>2</td>\n",
       "      <td>Deolinda Vilela</td>\n",
       "      <td>Ativo</td>\n",
       "      <td>Novo Hamburgo</td>\n",
       "      <td>34</td>\n",
       "      <td>2020-03-05</td>\n",
       "    </tr>\n",
       "    <tr>\n",
       "      <th>2</th>\n",
       "      <td>3</td>\n",
       "      <td>Emídio Dornelles</td>\n",
       "      <td>Ativo</td>\n",
       "      <td>Porto Alegre</td>\n",
       "      <td>34</td>\n",
       "      <td>2020-02-05</td>\n",
       "    </tr>\n",
       "    <tr>\n",
       "      <th>3</th>\n",
       "      <td>4</td>\n",
       "      <td>Felisbela Dornelles</td>\n",
       "      <td>Ativo</td>\n",
       "      <td>Porto Alegre</td>\n",
       "      <td>36</td>\n",
       "      <td>2020-02-05</td>\n",
       "    </tr>\n",
       "    <tr>\n",
       "      <th>4</th>\n",
       "      <td>5</td>\n",
       "      <td>Graça Ornellas</td>\n",
       "      <td>Ativo</td>\n",
       "      <td>Porto Alegre</td>\n",
       "      <td>12</td>\n",
       "      <td>2020-02-05</td>\n",
       "    </tr>\n",
       "    <tr>\n",
       "      <th>5</th>\n",
       "      <td>6</td>\n",
       "      <td>Matilde Rebouças</td>\n",
       "      <td>Ativo</td>\n",
       "      <td>Porto Alegre</td>\n",
       "      <td>22</td>\n",
       "      <td>2019-01-05</td>\n",
       "    </tr>\n",
       "    <tr>\n",
       "      <th>6</th>\n",
       "      <td>7</td>\n",
       "      <td>Noêmia   Orriça</td>\n",
       "      <td>Ativo</td>\n",
       "      <td>Santa Maria</td>\n",
       "      <td>45</td>\n",
       "      <td>2019-10-05</td>\n",
       "    </tr>\n",
       "    <tr>\n",
       "      <th>7</th>\n",
       "      <td>8</td>\n",
       "      <td>Roque Vásquez</td>\n",
       "      <td>Ativo</td>\n",
       "      <td>Porto Alegre</td>\n",
       "      <td>65</td>\n",
       "      <td>2020-03-05</td>\n",
       "    </tr>\n",
       "    <tr>\n",
       "      <th>8</th>\n",
       "      <td>9</td>\n",
       "      <td>Uriel Queiroz</td>\n",
       "      <td>Ativo</td>\n",
       "      <td>Porto Alegre</td>\n",
       "      <td>54</td>\n",
       "      <td>2018-05-05</td>\n",
       "    </tr>\n",
       "    <tr>\n",
       "      <th>9</th>\n",
       "      <td>10</td>\n",
       "      <td>Viviana Sequeira</td>\n",
       "      <td>Ativo</td>\n",
       "      <td>Porto Alegre</td>\n",
       "      <td>0</td>\n",
       "      <td>2020-09-05</td>\n",
       "    </tr>\n",
       "  </tbody>\n",
       "</table>\n",
       "</div>"
      ],
      "text/plain": [
       "   id                 nome status         cidade  vendas        data\n",
       "0   1     Carminda Pestana  Ativo    Santa Maria      23  2020-08-11\n",
       "1   2      Deolinda Vilela  Ativo  Novo Hamburgo      34  2020-03-05\n",
       "2   3     Emídio Dornelles  Ativo   Porto Alegre      34  2020-02-05\n",
       "3   4  Felisbela Dornelles  Ativo   Porto Alegre      36  2020-02-05\n",
       "4   5       Graça Ornellas  Ativo   Porto Alegre      12  2020-02-05\n",
       "5   6     Matilde Rebouças  Ativo   Porto Alegre      22  2019-01-05\n",
       "6   7      Noêmia   Orriça  Ativo    Santa Maria      45  2019-10-05\n",
       "7   8        Roque Vásquez  Ativo   Porto Alegre      65  2020-03-05\n",
       "8   9        Uriel Queiroz  Ativo   Porto Alegre      54  2018-05-05\n",
       "9  10     Viviana Sequeira  Ativo   Porto Alegre       0  2020-09-05"
      ]
     },
     "execution_count": 32,
     "metadata": {},
     "output_type": "execute_result"
    }
   ],
   "source": [
    "spark.sql('select * from Despachantes').toPandas()"
   ]
  },
  {
   "cell_type": "code",
   "execution_count": 33,
   "id": "d310eb67",
   "metadata": {},
   "outputs": [
    {
     "data": {
      "text/html": [
       "<div>\n",
       "<style scoped>\n",
       "    .dataframe tbody tr th:only-of-type {\n",
       "        vertical-align: middle;\n",
       "    }\n",
       "\n",
       "    .dataframe tbody tr th {\n",
       "        vertical-align: top;\n",
       "    }\n",
       "\n",
       "    .dataframe thead th {\n",
       "        text-align: right;\n",
       "    }\n",
       "</style>\n",
       "<table border=\"1\" class=\"dataframe\">\n",
       "  <thead>\n",
       "    <tr style=\"text-align: right;\">\n",
       "      <th></th>\n",
       "      <th>id</th>\n",
       "      <th>nome</th>\n",
       "      <th>status</th>\n",
       "      <th>cidade</th>\n",
       "      <th>vendas</th>\n",
       "      <th>data</th>\n",
       "    </tr>\n",
       "  </thead>\n",
       "  <tbody>\n",
       "    <tr>\n",
       "      <th>0</th>\n",
       "      <td>1</td>\n",
       "      <td>Carminda Pestana</td>\n",
       "      <td>Ativo</td>\n",
       "      <td>Santa Maria</td>\n",
       "      <td>23</td>\n",
       "      <td>2020-08-11</td>\n",
       "    </tr>\n",
       "    <tr>\n",
       "      <th>1</th>\n",
       "      <td>2</td>\n",
       "      <td>Deolinda Vilela</td>\n",
       "      <td>Ativo</td>\n",
       "      <td>Novo Hamburgo</td>\n",
       "      <td>34</td>\n",
       "      <td>2020-03-05</td>\n",
       "    </tr>\n",
       "    <tr>\n",
       "      <th>2</th>\n",
       "      <td>3</td>\n",
       "      <td>Emídio Dornelles</td>\n",
       "      <td>Ativo</td>\n",
       "      <td>Porto Alegre</td>\n",
       "      <td>34</td>\n",
       "      <td>2020-02-05</td>\n",
       "    </tr>\n",
       "    <tr>\n",
       "      <th>3</th>\n",
       "      <td>4</td>\n",
       "      <td>Felisbela Dornelles</td>\n",
       "      <td>Ativo</td>\n",
       "      <td>Porto Alegre</td>\n",
       "      <td>36</td>\n",
       "      <td>2020-02-05</td>\n",
       "    </tr>\n",
       "    <tr>\n",
       "      <th>4</th>\n",
       "      <td>5</td>\n",
       "      <td>Graça Ornellas</td>\n",
       "      <td>Ativo</td>\n",
       "      <td>Porto Alegre</td>\n",
       "      <td>12</td>\n",
       "      <td>2020-02-05</td>\n",
       "    </tr>\n",
       "    <tr>\n",
       "      <th>5</th>\n",
       "      <td>6</td>\n",
       "      <td>Matilde Rebouças</td>\n",
       "      <td>Ativo</td>\n",
       "      <td>Porto Alegre</td>\n",
       "      <td>22</td>\n",
       "      <td>2019-01-05</td>\n",
       "    </tr>\n",
       "    <tr>\n",
       "      <th>6</th>\n",
       "      <td>7</td>\n",
       "      <td>Noêmia   Orriça</td>\n",
       "      <td>Ativo</td>\n",
       "      <td>Santa Maria</td>\n",
       "      <td>45</td>\n",
       "      <td>2019-10-05</td>\n",
       "    </tr>\n",
       "    <tr>\n",
       "      <th>7</th>\n",
       "      <td>8</td>\n",
       "      <td>Roque Vásquez</td>\n",
       "      <td>Ativo</td>\n",
       "      <td>Porto Alegre</td>\n",
       "      <td>65</td>\n",
       "      <td>2020-03-05</td>\n",
       "    </tr>\n",
       "    <tr>\n",
       "      <th>8</th>\n",
       "      <td>9</td>\n",
       "      <td>Uriel Queiroz</td>\n",
       "      <td>Ativo</td>\n",
       "      <td>Porto Alegre</td>\n",
       "      <td>54</td>\n",
       "      <td>2018-05-05</td>\n",
       "    </tr>\n",
       "    <tr>\n",
       "      <th>9</th>\n",
       "      <td>10</td>\n",
       "      <td>Viviana Sequeira</td>\n",
       "      <td>Ativo</td>\n",
       "      <td>Porto Alegre</td>\n",
       "      <td>0</td>\n",
       "      <td>2020-09-05</td>\n",
       "    </tr>\n",
       "  </tbody>\n",
       "</table>\n",
       "</div>"
      ],
      "text/plain": [
       "   id                 nome status         cidade  vendas        data\n",
       "0   1     Carminda Pestana  Ativo    Santa Maria      23  2020-08-11\n",
       "1   2      Deolinda Vilela  Ativo  Novo Hamburgo      34  2020-03-05\n",
       "2   3     Emídio Dornelles  Ativo   Porto Alegre      34  2020-02-05\n",
       "3   4  Felisbela Dornelles  Ativo   Porto Alegre      36  2020-02-05\n",
       "4   5       Graça Ornellas  Ativo   Porto Alegre      12  2020-02-05\n",
       "5   6     Matilde Rebouças  Ativo   Porto Alegre      22  2019-01-05\n",
       "6   7      Noêmia   Orriça  Ativo    Santa Maria      45  2019-10-05\n",
       "7   8        Roque Vásquez  Ativo   Porto Alegre      65  2020-03-05\n",
       "8   9        Uriel Queiroz  Ativo   Porto Alegre      54  2018-05-05\n",
       "9  10     Viviana Sequeira  Ativo   Porto Alegre       0  2020-09-05"
      ]
     },
     "execution_count": 33,
     "metadata": {},
     "output_type": "execute_result"
    }
   ],
   "source": [
    "despachantes.select('*').toPandas()"
   ]
  },
  {
   "cell_type": "code",
   "execution_count": 34,
   "id": "e9c8f2b3",
   "metadata": {},
   "outputs": [
    {
     "data": {
      "text/html": [
       "<div>\n",
       "<style scoped>\n",
       "    .dataframe tbody tr th:only-of-type {\n",
       "        vertical-align: middle;\n",
       "    }\n",
       "\n",
       "    .dataframe tbody tr th {\n",
       "        vertical-align: top;\n",
       "    }\n",
       "\n",
       "    .dataframe thead th {\n",
       "        text-align: right;\n",
       "    }\n",
       "</style>\n",
       "<table border=\"1\" class=\"dataframe\">\n",
       "  <thead>\n",
       "    <tr style=\"text-align: right;\">\n",
       "      <th></th>\n",
       "      <th>nome</th>\n",
       "      <th>status</th>\n",
       "      <th>vendas</th>\n",
       "    </tr>\n",
       "  </thead>\n",
       "  <tbody>\n",
       "    <tr>\n",
       "      <th>0</th>\n",
       "      <td>Carminda Pestana</td>\n",
       "      <td>Ativo</td>\n",
       "      <td>23</td>\n",
       "    </tr>\n",
       "    <tr>\n",
       "      <th>1</th>\n",
       "      <td>Deolinda Vilela</td>\n",
       "      <td>Ativo</td>\n",
       "      <td>34</td>\n",
       "    </tr>\n",
       "    <tr>\n",
       "      <th>2</th>\n",
       "      <td>Emídio Dornelles</td>\n",
       "      <td>Ativo</td>\n",
       "      <td>34</td>\n",
       "    </tr>\n",
       "    <tr>\n",
       "      <th>3</th>\n",
       "      <td>Felisbela Dornelles</td>\n",
       "      <td>Ativo</td>\n",
       "      <td>36</td>\n",
       "    </tr>\n",
       "    <tr>\n",
       "      <th>4</th>\n",
       "      <td>Graça Ornellas</td>\n",
       "      <td>Ativo</td>\n",
       "      <td>12</td>\n",
       "    </tr>\n",
       "    <tr>\n",
       "      <th>5</th>\n",
       "      <td>Matilde Rebouças</td>\n",
       "      <td>Ativo</td>\n",
       "      <td>22</td>\n",
       "    </tr>\n",
       "    <tr>\n",
       "      <th>6</th>\n",
       "      <td>Noêmia   Orriça</td>\n",
       "      <td>Ativo</td>\n",
       "      <td>45</td>\n",
       "    </tr>\n",
       "    <tr>\n",
       "      <th>7</th>\n",
       "      <td>Roque Vásquez</td>\n",
       "      <td>Ativo</td>\n",
       "      <td>65</td>\n",
       "    </tr>\n",
       "    <tr>\n",
       "      <th>8</th>\n",
       "      <td>Uriel Queiroz</td>\n",
       "      <td>Ativo</td>\n",
       "      <td>54</td>\n",
       "    </tr>\n",
       "  </tbody>\n",
       "</table>\n",
       "</div>"
      ],
      "text/plain": [
       "                  nome status  vendas\n",
       "0     Carminda Pestana  Ativo      23\n",
       "1      Deolinda Vilela  Ativo      34\n",
       "2     Emídio Dornelles  Ativo      34\n",
       "3  Felisbela Dornelles  Ativo      36\n",
       "4       Graça Ornellas  Ativo      12\n",
       "5     Matilde Rebouças  Ativo      22\n",
       "6      Noêmia   Orriça  Ativo      45\n",
       "7        Roque Vásquez  Ativo      65\n",
       "8        Uriel Queiroz  Ativo      54"
      ]
     },
     "execution_count": 34,
     "metadata": {},
     "output_type": "execute_result"
    }
   ],
   "source": [
    "spark.sql('select nome, status, vendas from Despachantes where vendas > 10').toPandas()"
   ]
  },
  {
   "cell_type": "code",
   "execution_count": 35,
   "id": "7f2f2b91",
   "metadata": {},
   "outputs": [
    {
     "data": {
      "text/html": [
       "<div>\n",
       "<style scoped>\n",
       "    .dataframe tbody tr th:only-of-type {\n",
       "        vertical-align: middle;\n",
       "    }\n",
       "\n",
       "    .dataframe tbody tr th {\n",
       "        vertical-align: top;\n",
       "    }\n",
       "\n",
       "    .dataframe thead th {\n",
       "        text-align: right;\n",
       "    }\n",
       "</style>\n",
       "<table border=\"1\" class=\"dataframe\">\n",
       "  <thead>\n",
       "    <tr style=\"text-align: right;\">\n",
       "      <th></th>\n",
       "      <th>nome</th>\n",
       "      <th>status</th>\n",
       "      <th>vendas</th>\n",
       "    </tr>\n",
       "  </thead>\n",
       "  <tbody>\n",
       "    <tr>\n",
       "      <th>0</th>\n",
       "      <td>Carminda Pestana</td>\n",
       "      <td>Ativo</td>\n",
       "      <td>23</td>\n",
       "    </tr>\n",
       "    <tr>\n",
       "      <th>1</th>\n",
       "      <td>Deolinda Vilela</td>\n",
       "      <td>Ativo</td>\n",
       "      <td>34</td>\n",
       "    </tr>\n",
       "    <tr>\n",
       "      <th>2</th>\n",
       "      <td>Emídio Dornelles</td>\n",
       "      <td>Ativo</td>\n",
       "      <td>34</td>\n",
       "    </tr>\n",
       "    <tr>\n",
       "      <th>3</th>\n",
       "      <td>Felisbela Dornelles</td>\n",
       "      <td>Ativo</td>\n",
       "      <td>36</td>\n",
       "    </tr>\n",
       "    <tr>\n",
       "      <th>4</th>\n",
       "      <td>Matilde Rebouças</td>\n",
       "      <td>Ativo</td>\n",
       "      <td>22</td>\n",
       "    </tr>\n",
       "    <tr>\n",
       "      <th>5</th>\n",
       "      <td>Noêmia   Orriça</td>\n",
       "      <td>Ativo</td>\n",
       "      <td>45</td>\n",
       "    </tr>\n",
       "    <tr>\n",
       "      <th>6</th>\n",
       "      <td>Roque Vásquez</td>\n",
       "      <td>Ativo</td>\n",
       "      <td>65</td>\n",
       "    </tr>\n",
       "    <tr>\n",
       "      <th>7</th>\n",
       "      <td>Uriel Queiroz</td>\n",
       "      <td>Ativo</td>\n",
       "      <td>54</td>\n",
       "    </tr>\n",
       "  </tbody>\n",
       "</table>\n",
       "</div>"
      ],
      "text/plain": [
       "                  nome status  vendas\n",
       "0     Carminda Pestana  Ativo      23\n",
       "1      Deolinda Vilela  Ativo      34\n",
       "2     Emídio Dornelles  Ativo      34\n",
       "3  Felisbela Dornelles  Ativo      36\n",
       "4     Matilde Rebouças  Ativo      22\n",
       "5      Noêmia   Orriça  Ativo      45\n",
       "6        Roque Vásquez  Ativo      65\n",
       "7        Uriel Queiroz  Ativo      54"
      ]
     },
     "execution_count": 35,
     "metadata": {},
     "output_type": "execute_result"
    }
   ],
   "source": [
    "despachantes.select('nome', 'status', 'vendas').where(Func.col('vendas') > 20).toPandas()"
   ]
  },
  {
   "cell_type": "code",
   "execution_count": 36,
   "id": "1d8a8cbf",
   "metadata": {},
   "outputs": [
    {
     "name": "stderr",
     "output_type": "stream",
     "text": [
      "                                                                                \r"
     ]
    },
    {
     "data": {
      "text/html": [
       "<div>\n",
       "<style scoped>\n",
       "    .dataframe tbody tr th:only-of-type {\n",
       "        vertical-align: middle;\n",
       "    }\n",
       "\n",
       "    .dataframe tbody tr th {\n",
       "        vertical-align: top;\n",
       "    }\n",
       "\n",
       "    .dataframe thead th {\n",
       "        text-align: right;\n",
       "    }\n",
       "</style>\n",
       "<table border=\"1\" class=\"dataframe\">\n",
       "  <thead>\n",
       "    <tr style=\"text-align: right;\">\n",
       "      <th></th>\n",
       "      <th>cidade</th>\n",
       "      <th>total_vendas</th>\n",
       "    </tr>\n",
       "  </thead>\n",
       "  <tbody>\n",
       "    <tr>\n",
       "      <th>0</th>\n",
       "      <td>Porto Alegre</td>\n",
       "      <td>223</td>\n",
       "    </tr>\n",
       "    <tr>\n",
       "      <th>1</th>\n",
       "      <td>Santa Maria</td>\n",
       "      <td>68</td>\n",
       "    </tr>\n",
       "    <tr>\n",
       "      <th>2</th>\n",
       "      <td>Novo Hamburgo</td>\n",
       "      <td>34</td>\n",
       "    </tr>\n",
       "  </tbody>\n",
       "</table>\n",
       "</div>"
      ],
      "text/plain": [
       "          cidade  total_vendas\n",
       "0   Porto Alegre           223\n",
       "1    Santa Maria            68\n",
       "2  Novo Hamburgo            34"
      ]
     },
     "execution_count": 36,
     "metadata": {},
     "output_type": "execute_result"
    }
   ],
   "source": [
    "spark.sql('select cidade, sum(vendas) as total_vendas from Despachantes group by cidade order by 2 desc ').toPandas()"
   ]
  },
  {
   "cell_type": "code",
   "execution_count": 37,
   "id": "57f7b971",
   "metadata": {},
   "outputs": [
    {
     "name": "stderr",
     "output_type": "stream",
     "text": [
      "                                                                                \r"
     ]
    },
    {
     "data": {
      "text/html": [
       "<div>\n",
       "<style scoped>\n",
       "    .dataframe tbody tr th:only-of-type {\n",
       "        vertical-align: middle;\n",
       "    }\n",
       "\n",
       "    .dataframe tbody tr th {\n",
       "        vertical-align: top;\n",
       "    }\n",
       "\n",
       "    .dataframe thead th {\n",
       "        text-align: right;\n",
       "    }\n",
       "</style>\n",
       "<table border=\"1\" class=\"dataframe\">\n",
       "  <thead>\n",
       "    <tr style=\"text-align: right;\">\n",
       "      <th></th>\n",
       "      <th>cidade</th>\n",
       "      <th>sum(vendas)</th>\n",
       "    </tr>\n",
       "  </thead>\n",
       "  <tbody>\n",
       "    <tr>\n",
       "      <th>0</th>\n",
       "      <td>Porto Alegre</td>\n",
       "      <td>223</td>\n",
       "    </tr>\n",
       "    <tr>\n",
       "      <th>1</th>\n",
       "      <td>Santa Maria</td>\n",
       "      <td>68</td>\n",
       "    </tr>\n",
       "    <tr>\n",
       "      <th>2</th>\n",
       "      <td>Novo Hamburgo</td>\n",
       "      <td>34</td>\n",
       "    </tr>\n",
       "  </tbody>\n",
       "</table>\n",
       "</div>"
      ],
      "text/plain": [
       "          cidade  sum(vendas)\n",
       "0   Porto Alegre          223\n",
       "1    Santa Maria           68\n",
       "2  Novo Hamburgo           34"
      ]
     },
     "execution_count": 37,
     "metadata": {},
     "output_type": "execute_result"
    }
   ],
   "source": [
    "despachantes.groupby('cidade').agg(sum('vendas')).orderBy(Func.col('sum(vendas)').desc()).toPandas()"
   ]
  },
  {
   "cell_type": "markdown",
   "id": "a384383e",
   "metadata": {},
   "source": [
    "# Joins com dataframes e SQL"
   ]
  },
  {
   "cell_type": "code",
   "execution_count": 38,
   "id": "ff3cc7f7",
   "metadata": {},
   "outputs": [],
   "source": [
    "recschema = 'idrec INT, datarec STRING, iddesp INT'"
   ]
  },
  {
   "cell_type": "code",
   "execution_count": 39,
   "id": "0d4ba73f",
   "metadata": {},
   "outputs": [],
   "source": [
    "reclamacoes = spark.read.csv('download/reclamacoes.csv', header=False, schema= recschema)"
   ]
  },
  {
   "cell_type": "code",
   "execution_count": 40,
   "id": "40c8eb56",
   "metadata": {},
   "outputs": [
    {
     "data": {
      "text/html": [
       "<div>\n",
       "<style scoped>\n",
       "    .dataframe tbody tr th:only-of-type {\n",
       "        vertical-align: middle;\n",
       "    }\n",
       "\n",
       "    .dataframe tbody tr th {\n",
       "        vertical-align: top;\n",
       "    }\n",
       "\n",
       "    .dataframe thead th {\n",
       "        text-align: right;\n",
       "    }\n",
       "</style>\n",
       "<table border=\"1\" class=\"dataframe\">\n",
       "  <thead>\n",
       "    <tr style=\"text-align: right;\">\n",
       "      <th></th>\n",
       "      <th>idrec</th>\n",
       "      <th>datarec</th>\n",
       "      <th>iddesp</th>\n",
       "    </tr>\n",
       "  </thead>\n",
       "  <tbody>\n",
       "    <tr>\n",
       "      <th>0</th>\n",
       "      <td>1</td>\n",
       "      <td>2020-09-12</td>\n",
       "      <td>2</td>\n",
       "    </tr>\n",
       "    <tr>\n",
       "      <th>1</th>\n",
       "      <td>2</td>\n",
       "      <td>2020-09-11</td>\n",
       "      <td>2</td>\n",
       "    </tr>\n",
       "    <tr>\n",
       "      <th>2</th>\n",
       "      <td>3</td>\n",
       "      <td>2020-10-05</td>\n",
       "      <td>4</td>\n",
       "    </tr>\n",
       "    <tr>\n",
       "      <th>3</th>\n",
       "      <td>4</td>\n",
       "      <td>2020-10-02</td>\n",
       "      <td>5</td>\n",
       "    </tr>\n",
       "    <tr>\n",
       "      <th>4</th>\n",
       "      <td>5</td>\n",
       "      <td>2020-12-06</td>\n",
       "      <td>5</td>\n",
       "    </tr>\n",
       "    <tr>\n",
       "      <th>5</th>\n",
       "      <td>6</td>\n",
       "      <td>2020-01-09</td>\n",
       "      <td>5</td>\n",
       "    </tr>\n",
       "    <tr>\n",
       "      <th>6</th>\n",
       "      <td>7</td>\n",
       "      <td>2020-01-05</td>\n",
       "      <td>9</td>\n",
       "    </tr>\n",
       "  </tbody>\n",
       "</table>\n",
       "</div>"
      ],
      "text/plain": [
       "   idrec     datarec  iddesp\n",
       "0      1  2020-09-12       2\n",
       "1      2  2020-09-11       2\n",
       "2      3  2020-10-05       4\n",
       "3      4  2020-10-02       5\n",
       "4      5  2020-12-06       5\n",
       "5      6  2020-01-09       5\n",
       "6      7  2020-01-05       9"
      ]
     },
     "execution_count": 40,
     "metadata": {},
     "output_type": "execute_result"
    }
   ],
   "source": [
    "reclamacoes.toPandas()"
   ]
  },
  {
   "cell_type": "code",
   "execution_count": 41,
   "id": "ad3c237e",
   "metadata": {},
   "outputs": [],
   "source": [
    "reclamacoes.write.mode('overwrite').saveAsTable('reclamacoes')"
   ]
  },
  {
   "cell_type": "markdown",
   "id": "686bfa3e",
   "metadata": {},
   "source": [
    "### Inner Join"
   ]
  },
  {
   "cell_type": "code",
   "execution_count": 42,
   "id": "970d46b0",
   "metadata": {},
   "outputs": [
    {
     "data": {
      "text/html": [
       "<div>\n",
       "<style scoped>\n",
       "    .dataframe tbody tr th:only-of-type {\n",
       "        vertical-align: middle;\n",
       "    }\n",
       "\n",
       "    .dataframe tbody tr th {\n",
       "        vertical-align: top;\n",
       "    }\n",
       "\n",
       "    .dataframe thead th {\n",
       "        text-align: right;\n",
       "    }\n",
       "</style>\n",
       "<table border=\"1\" class=\"dataframe\">\n",
       "  <thead>\n",
       "    <tr style=\"text-align: right;\">\n",
       "      <th></th>\n",
       "      <th>idrec</th>\n",
       "      <th>datarec</th>\n",
       "      <th>iddesp</th>\n",
       "      <th>nome</th>\n",
       "    </tr>\n",
       "  </thead>\n",
       "  <tbody>\n",
       "    <tr>\n",
       "      <th>0</th>\n",
       "      <td>1</td>\n",
       "      <td>2020-09-12</td>\n",
       "      <td>2</td>\n",
       "      <td>Deolinda Vilela</td>\n",
       "    </tr>\n",
       "    <tr>\n",
       "      <th>1</th>\n",
       "      <td>2</td>\n",
       "      <td>2020-09-11</td>\n",
       "      <td>2</td>\n",
       "      <td>Deolinda Vilela</td>\n",
       "    </tr>\n",
       "    <tr>\n",
       "      <th>2</th>\n",
       "      <td>3</td>\n",
       "      <td>2020-10-05</td>\n",
       "      <td>4</td>\n",
       "      <td>Felisbela Dornelles</td>\n",
       "    </tr>\n",
       "    <tr>\n",
       "      <th>3</th>\n",
       "      <td>4</td>\n",
       "      <td>2020-10-02</td>\n",
       "      <td>5</td>\n",
       "      <td>Graça Ornellas</td>\n",
       "    </tr>\n",
       "    <tr>\n",
       "      <th>4</th>\n",
       "      <td>5</td>\n",
       "      <td>2020-12-06</td>\n",
       "      <td>5</td>\n",
       "      <td>Graça Ornellas</td>\n",
       "    </tr>\n",
       "    <tr>\n",
       "      <th>5</th>\n",
       "      <td>6</td>\n",
       "      <td>2020-01-09</td>\n",
       "      <td>5</td>\n",
       "      <td>Graça Ornellas</td>\n",
       "    </tr>\n",
       "    <tr>\n",
       "      <th>6</th>\n",
       "      <td>7</td>\n",
       "      <td>2020-01-05</td>\n",
       "      <td>9</td>\n",
       "      <td>Uriel Queiroz</td>\n",
       "    </tr>\n",
       "  </tbody>\n",
       "</table>\n",
       "</div>"
      ],
      "text/plain": [
       "   idrec     datarec  iddesp                 nome\n",
       "0      1  2020-09-12       2      Deolinda Vilela\n",
       "1      2  2020-09-11       2      Deolinda Vilela\n",
       "2      3  2020-10-05       4  Felisbela Dornelles\n",
       "3      4  2020-10-02       5       Graça Ornellas\n",
       "4      5  2020-12-06       5       Graça Ornellas\n",
       "5      6  2020-01-09       5       Graça Ornellas\n",
       "6      7  2020-01-05       9        Uriel Queiroz"
      ]
     },
     "execution_count": 42,
     "metadata": {},
     "output_type": "execute_result"
    }
   ],
   "source": [
    "spark.sql('select reclamacoes.*, despachantes.nome from despachantes inner join reclamacoes on (despachantes.id = reclamacoes.iddesp)').toPandas()"
   ]
  },
  {
   "cell_type": "code",
   "execution_count": 43,
   "id": "9eca13af",
   "metadata": {},
   "outputs": [
    {
     "data": {
      "text/html": [
       "<div>\n",
       "<style scoped>\n",
       "    .dataframe tbody tr th:only-of-type {\n",
       "        vertical-align: middle;\n",
       "    }\n",
       "\n",
       "    .dataframe tbody tr th {\n",
       "        vertical-align: top;\n",
       "    }\n",
       "\n",
       "    .dataframe thead th {\n",
       "        text-align: right;\n",
       "    }\n",
       "</style>\n",
       "<table border=\"1\" class=\"dataframe\">\n",
       "  <thead>\n",
       "    <tr style=\"text-align: right;\">\n",
       "      <th></th>\n",
       "      <th>idrec</th>\n",
       "      <th>datarec</th>\n",
       "      <th>iddesp</th>\n",
       "      <th>nome</th>\n",
       "    </tr>\n",
       "  </thead>\n",
       "  <tbody>\n",
       "    <tr>\n",
       "      <th>0</th>\n",
       "      <td>2</td>\n",
       "      <td>2020-09-11</td>\n",
       "      <td>2</td>\n",
       "      <td>Deolinda Vilela</td>\n",
       "    </tr>\n",
       "    <tr>\n",
       "      <th>1</th>\n",
       "      <td>1</td>\n",
       "      <td>2020-09-12</td>\n",
       "      <td>2</td>\n",
       "      <td>Deolinda Vilela</td>\n",
       "    </tr>\n",
       "    <tr>\n",
       "      <th>2</th>\n",
       "      <td>3</td>\n",
       "      <td>2020-10-05</td>\n",
       "      <td>4</td>\n",
       "      <td>Felisbela Dornelles</td>\n",
       "    </tr>\n",
       "    <tr>\n",
       "      <th>3</th>\n",
       "      <td>6</td>\n",
       "      <td>2020-01-09</td>\n",
       "      <td>5</td>\n",
       "      <td>Graça Ornellas</td>\n",
       "    </tr>\n",
       "    <tr>\n",
       "      <th>4</th>\n",
       "      <td>5</td>\n",
       "      <td>2020-12-06</td>\n",
       "      <td>5</td>\n",
       "      <td>Graça Ornellas</td>\n",
       "    </tr>\n",
       "    <tr>\n",
       "      <th>5</th>\n",
       "      <td>4</td>\n",
       "      <td>2020-10-02</td>\n",
       "      <td>5</td>\n",
       "      <td>Graça Ornellas</td>\n",
       "    </tr>\n",
       "    <tr>\n",
       "      <th>6</th>\n",
       "      <td>7</td>\n",
       "      <td>2020-01-05</td>\n",
       "      <td>9</td>\n",
       "      <td>Uriel Queiroz</td>\n",
       "    </tr>\n",
       "  </tbody>\n",
       "</table>\n",
       "</div>"
      ],
      "text/plain": [
       "   idrec     datarec  iddesp                 nome\n",
       "0      2  2020-09-11       2      Deolinda Vilela\n",
       "1      1  2020-09-12       2      Deolinda Vilela\n",
       "2      3  2020-10-05       4  Felisbela Dornelles\n",
       "3      6  2020-01-09       5       Graça Ornellas\n",
       "4      5  2020-12-06       5       Graça Ornellas\n",
       "5      4  2020-10-02       5       Graça Ornellas\n",
       "6      7  2020-01-05       9        Uriel Queiroz"
      ]
     },
     "execution_count": 43,
     "metadata": {},
     "output_type": "execute_result"
    }
   ],
   "source": [
    "despachantes.join(reclamacoes, despachantes.id == reclamacoes.iddesp, 'inner').select('idrec', 'datarec', 'iddesp', 'nome').toPandas()"
   ]
  },
  {
   "cell_type": "markdown",
   "id": "0a0b1f97",
   "metadata": {},
   "source": [
    "### Right Join"
   ]
  },
  {
   "cell_type": "code",
   "execution_count": 44,
   "id": "55bcd1c7",
   "metadata": {},
   "outputs": [
    {
     "data": {
      "text/html": [
       "<div>\n",
       "<style scoped>\n",
       "    .dataframe tbody tr th:only-of-type {\n",
       "        vertical-align: middle;\n",
       "    }\n",
       "\n",
       "    .dataframe tbody tr th {\n",
       "        vertical-align: top;\n",
       "    }\n",
       "\n",
       "    .dataframe thead th {\n",
       "        text-align: right;\n",
       "    }\n",
       "</style>\n",
       "<table border=\"1\" class=\"dataframe\">\n",
       "  <thead>\n",
       "    <tr style=\"text-align: right;\">\n",
       "      <th></th>\n",
       "      <th>idrec</th>\n",
       "      <th>datarec</th>\n",
       "      <th>iddesp</th>\n",
       "      <th>nome</th>\n",
       "    </tr>\n",
       "  </thead>\n",
       "  <tbody>\n",
       "    <tr>\n",
       "      <th>0</th>\n",
       "      <td>1</td>\n",
       "      <td>2020-09-12</td>\n",
       "      <td>2</td>\n",
       "      <td>Deolinda Vilela</td>\n",
       "    </tr>\n",
       "    <tr>\n",
       "      <th>1</th>\n",
       "      <td>2</td>\n",
       "      <td>2020-09-11</td>\n",
       "      <td>2</td>\n",
       "      <td>Deolinda Vilela</td>\n",
       "    </tr>\n",
       "    <tr>\n",
       "      <th>2</th>\n",
       "      <td>3</td>\n",
       "      <td>2020-10-05</td>\n",
       "      <td>4</td>\n",
       "      <td>Felisbela Dornelles</td>\n",
       "    </tr>\n",
       "    <tr>\n",
       "      <th>3</th>\n",
       "      <td>4</td>\n",
       "      <td>2020-10-02</td>\n",
       "      <td>5</td>\n",
       "      <td>Graça Ornellas</td>\n",
       "    </tr>\n",
       "    <tr>\n",
       "      <th>4</th>\n",
       "      <td>5</td>\n",
       "      <td>2020-12-06</td>\n",
       "      <td>5</td>\n",
       "      <td>Graça Ornellas</td>\n",
       "    </tr>\n",
       "    <tr>\n",
       "      <th>5</th>\n",
       "      <td>6</td>\n",
       "      <td>2020-01-09</td>\n",
       "      <td>5</td>\n",
       "      <td>Graça Ornellas</td>\n",
       "    </tr>\n",
       "    <tr>\n",
       "      <th>6</th>\n",
       "      <td>7</td>\n",
       "      <td>2020-01-05</td>\n",
       "      <td>9</td>\n",
       "      <td>Uriel Queiroz</td>\n",
       "    </tr>\n",
       "  </tbody>\n",
       "</table>\n",
       "</div>"
      ],
      "text/plain": [
       "   idrec     datarec  iddesp                 nome\n",
       "0      1  2020-09-12       2      Deolinda Vilela\n",
       "1      2  2020-09-11       2      Deolinda Vilela\n",
       "2      3  2020-10-05       4  Felisbela Dornelles\n",
       "3      4  2020-10-02       5       Graça Ornellas\n",
       "4      5  2020-12-06       5       Graça Ornellas\n",
       "5      6  2020-01-09       5       Graça Ornellas\n",
       "6      7  2020-01-05       9        Uriel Queiroz"
      ]
     },
     "execution_count": 44,
     "metadata": {},
     "output_type": "execute_result"
    }
   ],
   "source": [
    "spark.sql('select reclamacoes.*, despachantes.nome from despachantes right join reclamacoes on (despachantes.id = reclamacoes.iddesp)').toPandas()"
   ]
  },
  {
   "cell_type": "code",
   "execution_count": 45,
   "id": "81eff8fd",
   "metadata": {},
   "outputs": [
    {
     "data": {
      "text/html": [
       "<div>\n",
       "<style scoped>\n",
       "    .dataframe tbody tr th:only-of-type {\n",
       "        vertical-align: middle;\n",
       "    }\n",
       "\n",
       "    .dataframe tbody tr th {\n",
       "        vertical-align: top;\n",
       "    }\n",
       "\n",
       "    .dataframe thead th {\n",
       "        text-align: right;\n",
       "    }\n",
       "</style>\n",
       "<table border=\"1\" class=\"dataframe\">\n",
       "  <thead>\n",
       "    <tr style=\"text-align: right;\">\n",
       "      <th></th>\n",
       "      <th>idrec</th>\n",
       "      <th>datarec</th>\n",
       "      <th>iddesp</th>\n",
       "      <th>nome</th>\n",
       "    </tr>\n",
       "  </thead>\n",
       "  <tbody>\n",
       "    <tr>\n",
       "      <th>0</th>\n",
       "      <td>1</td>\n",
       "      <td>2020-09-12</td>\n",
       "      <td>2</td>\n",
       "      <td>Deolinda Vilela</td>\n",
       "    </tr>\n",
       "    <tr>\n",
       "      <th>1</th>\n",
       "      <td>2</td>\n",
       "      <td>2020-09-11</td>\n",
       "      <td>2</td>\n",
       "      <td>Deolinda Vilela</td>\n",
       "    </tr>\n",
       "    <tr>\n",
       "      <th>2</th>\n",
       "      <td>3</td>\n",
       "      <td>2020-10-05</td>\n",
       "      <td>4</td>\n",
       "      <td>Felisbela Dornelles</td>\n",
       "    </tr>\n",
       "    <tr>\n",
       "      <th>3</th>\n",
       "      <td>4</td>\n",
       "      <td>2020-10-02</td>\n",
       "      <td>5</td>\n",
       "      <td>Graça Ornellas</td>\n",
       "    </tr>\n",
       "    <tr>\n",
       "      <th>4</th>\n",
       "      <td>5</td>\n",
       "      <td>2020-12-06</td>\n",
       "      <td>5</td>\n",
       "      <td>Graça Ornellas</td>\n",
       "    </tr>\n",
       "    <tr>\n",
       "      <th>5</th>\n",
       "      <td>6</td>\n",
       "      <td>2020-01-09</td>\n",
       "      <td>5</td>\n",
       "      <td>Graça Ornellas</td>\n",
       "    </tr>\n",
       "    <tr>\n",
       "      <th>6</th>\n",
       "      <td>7</td>\n",
       "      <td>2020-01-05</td>\n",
       "      <td>9</td>\n",
       "      <td>Uriel Queiroz</td>\n",
       "    </tr>\n",
       "  </tbody>\n",
       "</table>\n",
       "</div>"
      ],
      "text/plain": [
       "   idrec     datarec  iddesp                 nome\n",
       "0      1  2020-09-12       2      Deolinda Vilela\n",
       "1      2  2020-09-11       2      Deolinda Vilela\n",
       "2      3  2020-10-05       4  Felisbela Dornelles\n",
       "3      4  2020-10-02       5       Graça Ornellas\n",
       "4      5  2020-12-06       5       Graça Ornellas\n",
       "5      6  2020-01-09       5       Graça Ornellas\n",
       "6      7  2020-01-05       9        Uriel Queiroz"
      ]
     },
     "execution_count": 45,
     "metadata": {},
     "output_type": "execute_result"
    }
   ],
   "source": [
    "despachantes.join(reclamacoes, despachantes.id == reclamacoes.iddesp, 'right').select('idrec', 'datarec', 'iddesp', 'nome').toPandas()"
   ]
  },
  {
   "cell_type": "markdown",
   "id": "d86d11db",
   "metadata": {},
   "source": [
    "### Left Join"
   ]
  },
  {
   "cell_type": "code",
   "execution_count": 46,
   "id": "71d30000",
   "metadata": {},
   "outputs": [
    {
     "data": {
      "text/html": [
       "<div>\n",
       "<style scoped>\n",
       "    .dataframe tbody tr th:only-of-type {\n",
       "        vertical-align: middle;\n",
       "    }\n",
       "\n",
       "    .dataframe tbody tr th {\n",
       "        vertical-align: top;\n",
       "    }\n",
       "\n",
       "    .dataframe thead th {\n",
       "        text-align: right;\n",
       "    }\n",
       "</style>\n",
       "<table border=\"1\" class=\"dataframe\">\n",
       "  <thead>\n",
       "    <tr style=\"text-align: right;\">\n",
       "      <th></th>\n",
       "      <th>idrec</th>\n",
       "      <th>datarec</th>\n",
       "      <th>iddesp</th>\n",
       "      <th>nome</th>\n",
       "    </tr>\n",
       "  </thead>\n",
       "  <tbody>\n",
       "    <tr>\n",
       "      <th>0</th>\n",
       "      <td>NaN</td>\n",
       "      <td>None</td>\n",
       "      <td>NaN</td>\n",
       "      <td>Carminda Pestana</td>\n",
       "    </tr>\n",
       "    <tr>\n",
       "      <th>1</th>\n",
       "      <td>2.0</td>\n",
       "      <td>2020-09-11</td>\n",
       "      <td>2.0</td>\n",
       "      <td>Deolinda Vilela</td>\n",
       "    </tr>\n",
       "    <tr>\n",
       "      <th>2</th>\n",
       "      <td>1.0</td>\n",
       "      <td>2020-09-12</td>\n",
       "      <td>2.0</td>\n",
       "      <td>Deolinda Vilela</td>\n",
       "    </tr>\n",
       "    <tr>\n",
       "      <th>3</th>\n",
       "      <td>NaN</td>\n",
       "      <td>None</td>\n",
       "      <td>NaN</td>\n",
       "      <td>Emídio Dornelles</td>\n",
       "    </tr>\n",
       "    <tr>\n",
       "      <th>4</th>\n",
       "      <td>3.0</td>\n",
       "      <td>2020-10-05</td>\n",
       "      <td>4.0</td>\n",
       "      <td>Felisbela Dornelles</td>\n",
       "    </tr>\n",
       "    <tr>\n",
       "      <th>5</th>\n",
       "      <td>6.0</td>\n",
       "      <td>2020-01-09</td>\n",
       "      <td>5.0</td>\n",
       "      <td>Graça Ornellas</td>\n",
       "    </tr>\n",
       "    <tr>\n",
       "      <th>6</th>\n",
       "      <td>5.0</td>\n",
       "      <td>2020-12-06</td>\n",
       "      <td>5.0</td>\n",
       "      <td>Graça Ornellas</td>\n",
       "    </tr>\n",
       "    <tr>\n",
       "      <th>7</th>\n",
       "      <td>4.0</td>\n",
       "      <td>2020-10-02</td>\n",
       "      <td>5.0</td>\n",
       "      <td>Graça Ornellas</td>\n",
       "    </tr>\n",
       "    <tr>\n",
       "      <th>8</th>\n",
       "      <td>NaN</td>\n",
       "      <td>None</td>\n",
       "      <td>NaN</td>\n",
       "      <td>Matilde Rebouças</td>\n",
       "    </tr>\n",
       "    <tr>\n",
       "      <th>9</th>\n",
       "      <td>NaN</td>\n",
       "      <td>None</td>\n",
       "      <td>NaN</td>\n",
       "      <td>Noêmia   Orriça</td>\n",
       "    </tr>\n",
       "    <tr>\n",
       "      <th>10</th>\n",
       "      <td>NaN</td>\n",
       "      <td>None</td>\n",
       "      <td>NaN</td>\n",
       "      <td>Roque Vásquez</td>\n",
       "    </tr>\n",
       "    <tr>\n",
       "      <th>11</th>\n",
       "      <td>7.0</td>\n",
       "      <td>2020-01-05</td>\n",
       "      <td>9.0</td>\n",
       "      <td>Uriel Queiroz</td>\n",
       "    </tr>\n",
       "    <tr>\n",
       "      <th>12</th>\n",
       "      <td>NaN</td>\n",
       "      <td>None</td>\n",
       "      <td>NaN</td>\n",
       "      <td>Viviana Sequeira</td>\n",
       "    </tr>\n",
       "  </tbody>\n",
       "</table>\n",
       "</div>"
      ],
      "text/plain": [
       "    idrec     datarec  iddesp                 nome\n",
       "0     NaN        None     NaN     Carminda Pestana\n",
       "1     2.0  2020-09-11     2.0      Deolinda Vilela\n",
       "2     1.0  2020-09-12     2.0      Deolinda Vilela\n",
       "3     NaN        None     NaN     Emídio Dornelles\n",
       "4     3.0  2020-10-05     4.0  Felisbela Dornelles\n",
       "5     6.0  2020-01-09     5.0       Graça Ornellas\n",
       "6     5.0  2020-12-06     5.0       Graça Ornellas\n",
       "7     4.0  2020-10-02     5.0       Graça Ornellas\n",
       "8     NaN        None     NaN     Matilde Rebouças\n",
       "9     NaN        None     NaN      Noêmia   Orriça\n",
       "10    NaN        None     NaN        Roque Vásquez\n",
       "11    7.0  2020-01-05     9.0        Uriel Queiroz\n",
       "12    NaN        None     NaN     Viviana Sequeira"
      ]
     },
     "execution_count": 46,
     "metadata": {},
     "output_type": "execute_result"
    }
   ],
   "source": [
    "spark.sql('select reclamacoes.*, despachantes.nome from despachantes left join reclamacoes on (despachantes.id = reclamacoes.iddesp)').toPandas()"
   ]
  },
  {
   "cell_type": "code",
   "execution_count": 47,
   "id": "6c8a7e05",
   "metadata": {},
   "outputs": [
    {
     "data": {
      "text/html": [
       "<div>\n",
       "<style scoped>\n",
       "    .dataframe tbody tr th:only-of-type {\n",
       "        vertical-align: middle;\n",
       "    }\n",
       "\n",
       "    .dataframe tbody tr th {\n",
       "        vertical-align: top;\n",
       "    }\n",
       "\n",
       "    .dataframe thead th {\n",
       "        text-align: right;\n",
       "    }\n",
       "</style>\n",
       "<table border=\"1\" class=\"dataframe\">\n",
       "  <thead>\n",
       "    <tr style=\"text-align: right;\">\n",
       "      <th></th>\n",
       "      <th>idrec</th>\n",
       "      <th>datarec</th>\n",
       "      <th>iddesp</th>\n",
       "      <th>nome</th>\n",
       "    </tr>\n",
       "  </thead>\n",
       "  <tbody>\n",
       "    <tr>\n",
       "      <th>0</th>\n",
       "      <td>NaN</td>\n",
       "      <td>None</td>\n",
       "      <td>NaN</td>\n",
       "      <td>Carminda Pestana</td>\n",
       "    </tr>\n",
       "    <tr>\n",
       "      <th>1</th>\n",
       "      <td>2.0</td>\n",
       "      <td>2020-09-11</td>\n",
       "      <td>2.0</td>\n",
       "      <td>Deolinda Vilela</td>\n",
       "    </tr>\n",
       "    <tr>\n",
       "      <th>2</th>\n",
       "      <td>1.0</td>\n",
       "      <td>2020-09-12</td>\n",
       "      <td>2.0</td>\n",
       "      <td>Deolinda Vilela</td>\n",
       "    </tr>\n",
       "    <tr>\n",
       "      <th>3</th>\n",
       "      <td>NaN</td>\n",
       "      <td>None</td>\n",
       "      <td>NaN</td>\n",
       "      <td>Emídio Dornelles</td>\n",
       "    </tr>\n",
       "    <tr>\n",
       "      <th>4</th>\n",
       "      <td>3.0</td>\n",
       "      <td>2020-10-05</td>\n",
       "      <td>4.0</td>\n",
       "      <td>Felisbela Dornelles</td>\n",
       "    </tr>\n",
       "    <tr>\n",
       "      <th>5</th>\n",
       "      <td>6.0</td>\n",
       "      <td>2020-01-09</td>\n",
       "      <td>5.0</td>\n",
       "      <td>Graça Ornellas</td>\n",
       "    </tr>\n",
       "    <tr>\n",
       "      <th>6</th>\n",
       "      <td>5.0</td>\n",
       "      <td>2020-12-06</td>\n",
       "      <td>5.0</td>\n",
       "      <td>Graça Ornellas</td>\n",
       "    </tr>\n",
       "    <tr>\n",
       "      <th>7</th>\n",
       "      <td>4.0</td>\n",
       "      <td>2020-10-02</td>\n",
       "      <td>5.0</td>\n",
       "      <td>Graça Ornellas</td>\n",
       "    </tr>\n",
       "    <tr>\n",
       "      <th>8</th>\n",
       "      <td>NaN</td>\n",
       "      <td>None</td>\n",
       "      <td>NaN</td>\n",
       "      <td>Matilde Rebouças</td>\n",
       "    </tr>\n",
       "    <tr>\n",
       "      <th>9</th>\n",
       "      <td>NaN</td>\n",
       "      <td>None</td>\n",
       "      <td>NaN</td>\n",
       "      <td>Noêmia   Orriça</td>\n",
       "    </tr>\n",
       "    <tr>\n",
       "      <th>10</th>\n",
       "      <td>NaN</td>\n",
       "      <td>None</td>\n",
       "      <td>NaN</td>\n",
       "      <td>Roque Vásquez</td>\n",
       "    </tr>\n",
       "    <tr>\n",
       "      <th>11</th>\n",
       "      <td>7.0</td>\n",
       "      <td>2020-01-05</td>\n",
       "      <td>9.0</td>\n",
       "      <td>Uriel Queiroz</td>\n",
       "    </tr>\n",
       "    <tr>\n",
       "      <th>12</th>\n",
       "      <td>NaN</td>\n",
       "      <td>None</td>\n",
       "      <td>NaN</td>\n",
       "      <td>Viviana Sequeira</td>\n",
       "    </tr>\n",
       "  </tbody>\n",
       "</table>\n",
       "</div>"
      ],
      "text/plain": [
       "    idrec     datarec  iddesp                 nome\n",
       "0     NaN        None     NaN     Carminda Pestana\n",
       "1     2.0  2020-09-11     2.0      Deolinda Vilela\n",
       "2     1.0  2020-09-12     2.0      Deolinda Vilela\n",
       "3     NaN        None     NaN     Emídio Dornelles\n",
       "4     3.0  2020-10-05     4.0  Felisbela Dornelles\n",
       "5     6.0  2020-01-09     5.0       Graça Ornellas\n",
       "6     5.0  2020-12-06     5.0       Graça Ornellas\n",
       "7     4.0  2020-10-02     5.0       Graça Ornellas\n",
       "8     NaN        None     NaN     Matilde Rebouças\n",
       "9     NaN        None     NaN      Noêmia   Orriça\n",
       "10    NaN        None     NaN        Roque Vásquez\n",
       "11    7.0  2020-01-05     9.0        Uriel Queiroz\n",
       "12    NaN        None     NaN     Viviana Sequeira"
      ]
     },
     "execution_count": 47,
     "metadata": {},
     "output_type": "execute_result"
    }
   ],
   "source": [
    "despachantes.join(reclamacoes, despachantes.id == reclamacoes.iddesp, 'left').select('idrec', 'datarec', 'iddesp', 'nome').toPandas()"
   ]
  },
  {
   "cell_type": "markdown",
   "id": "46021d19",
   "metadata": {},
   "source": [
    "# Exercicios - Faça você mesmo"
   ]
  },
  {
   "cell_type": "markdown",
   "id": "cd35c2fa",
   "metadata": {},
   "source": [
    "### Construindo um dw"
   ]
  },
  {
   "cell_type": "markdown",
   "id": "307ac67e",
   "metadata": {},
   "source": [
    "### Importando os dados"
   ]
  },
  {
   "cell_type": "code",
   "execution_count": 48,
   "id": "c2fdff35",
   "metadata": {},
   "outputs": [],
   "source": [
    "clientes = spark.read.load('download/Atividades/Clientes.parquet')"
   ]
  },
  {
   "cell_type": "code",
   "execution_count": 49,
   "id": "fd44f530",
   "metadata": {},
   "outputs": [
    {
     "data": {
      "text/html": [
       "<div>\n",
       "<style scoped>\n",
       "    .dataframe tbody tr th:only-of-type {\n",
       "        vertical-align: middle;\n",
       "    }\n",
       "\n",
       "    .dataframe tbody tr th {\n",
       "        vertical-align: top;\n",
       "    }\n",
       "\n",
       "    .dataframe thead th {\n",
       "        text-align: right;\n",
       "    }\n",
       "</style>\n",
       "<table border=\"1\" class=\"dataframe\">\n",
       "  <thead>\n",
       "    <tr style=\"text-align: right;\">\n",
       "      <th></th>\n",
       "      <th>ClienteID</th>\n",
       "      <th>Cliente</th>\n",
       "      <th>Estado</th>\n",
       "      <th>Genero</th>\n",
       "      <th>Status</th>\n",
       "    </tr>\n",
       "  </thead>\n",
       "  <tbody>\n",
       "    <tr>\n",
       "      <th>0</th>\n",
       "      <td>1</td>\n",
       "      <td>Adelina Buenaventura</td>\n",
       "      <td>RJ</td>\n",
       "      <td>M</td>\n",
       "      <td>Silver</td>\n",
       "    </tr>\n",
       "    <tr>\n",
       "      <th>1</th>\n",
       "      <td>2</td>\n",
       "      <td>Adelino Gago</td>\n",
       "      <td>RJ</td>\n",
       "      <td>M</td>\n",
       "      <td>Silver</td>\n",
       "    </tr>\n",
       "    <tr>\n",
       "      <th>2</th>\n",
       "      <td>3</td>\n",
       "      <td>Adolfo Patrício</td>\n",
       "      <td>PE</td>\n",
       "      <td>M</td>\n",
       "      <td>Silver</td>\n",
       "    </tr>\n",
       "    <tr>\n",
       "      <th>3</th>\n",
       "      <td>4</td>\n",
       "      <td>Adriana Guedelha</td>\n",
       "      <td>RO</td>\n",
       "      <td>F</td>\n",
       "      <td>Platinum</td>\n",
       "    </tr>\n",
       "    <tr>\n",
       "      <th>4</th>\n",
       "      <td>5</td>\n",
       "      <td>Adélio Lisboa</td>\n",
       "      <td>SE</td>\n",
       "      <td>M</td>\n",
       "      <td>Silver</td>\n",
       "    </tr>\n",
       "    <tr>\n",
       "      <th>...</th>\n",
       "      <td>...</td>\n",
       "      <td>...</td>\n",
       "      <td>...</td>\n",
       "      <td>...</td>\n",
       "      <td>...</td>\n",
       "    </tr>\n",
       "    <tr>\n",
       "      <th>245</th>\n",
       "      <td>246</td>\n",
       "      <td>Jandaíra Albuquerque</td>\n",
       "      <td>SP</td>\n",
       "      <td>F</td>\n",
       "      <td>Silver</td>\n",
       "    </tr>\n",
       "    <tr>\n",
       "      <th>246</th>\n",
       "      <td>247</td>\n",
       "      <td>Joana Ataí</td>\n",
       "      <td>GO</td>\n",
       "      <td>F</td>\n",
       "      <td>Platinum</td>\n",
       "    </tr>\n",
       "    <tr>\n",
       "      <th>247</th>\n",
       "      <td>248</td>\n",
       "      <td>Joaquim Hurtado</td>\n",
       "      <td>AP</td>\n",
       "      <td>M</td>\n",
       "      <td>Silver</td>\n",
       "    </tr>\n",
       "    <tr>\n",
       "      <th>248</th>\n",
       "      <td>249</td>\n",
       "      <td>Joaquim Mieiro</td>\n",
       "      <td>TO</td>\n",
       "      <td>M</td>\n",
       "      <td>Silver</td>\n",
       "    </tr>\n",
       "    <tr>\n",
       "      <th>249</th>\n",
       "      <td>250</td>\n",
       "      <td>Joaquina Vasconcelos</td>\n",
       "      <td>SC</td>\n",
       "      <td>F</td>\n",
       "      <td>Silver</td>\n",
       "    </tr>\n",
       "  </tbody>\n",
       "</table>\n",
       "<p>250 rows × 5 columns</p>\n",
       "</div>"
      ],
      "text/plain": [
       "     ClienteID               Cliente Estado Genero    Status\n",
       "0            1  Adelina Buenaventura     RJ      M    Silver\n",
       "1            2          Adelino Gago     RJ      M    Silver\n",
       "2            3       Adolfo Patrício     PE      M    Silver\n",
       "3            4      Adriana Guedelha     RO      F  Platinum\n",
       "4            5         Adélio Lisboa     SE      M    Silver\n",
       "..         ...                   ...    ...    ...       ...\n",
       "245        246  Jandaíra Albuquerque     SP      F    Silver\n",
       "246        247            Joana Ataí     GO      F  Platinum\n",
       "247        248       Joaquim Hurtado     AP      M    Silver\n",
       "248        249        Joaquim Mieiro     TO      M    Silver\n",
       "249        250  Joaquina Vasconcelos     SC      F    Silver\n",
       "\n",
       "[250 rows x 5 columns]"
      ]
     },
     "execution_count": 49,
     "metadata": {},
     "output_type": "execute_result"
    }
   ],
   "source": [
    "clientes.toPandas()"
   ]
  },
  {
   "cell_type": "code",
   "execution_count": 50,
   "id": "c5da31d0",
   "metadata": {},
   "outputs": [],
   "source": [
    "vendas = spark.read.load('download/Atividades/Vendas.parquet')"
   ]
  },
  {
   "cell_type": "code",
   "execution_count": 51,
   "id": "429b1d93",
   "metadata": {},
   "outputs": [
    {
     "data": {
      "text/html": [
       "<div>\n",
       "<style scoped>\n",
       "    .dataframe tbody tr th:only-of-type {\n",
       "        vertical-align: middle;\n",
       "    }\n",
       "\n",
       "    .dataframe tbody tr th {\n",
       "        vertical-align: top;\n",
       "    }\n",
       "\n",
       "    .dataframe thead th {\n",
       "        text-align: right;\n",
       "    }\n",
       "</style>\n",
       "<table border=\"1\" class=\"dataframe\">\n",
       "  <thead>\n",
       "    <tr style=\"text-align: right;\">\n",
       "      <th></th>\n",
       "      <th>VendasID</th>\n",
       "      <th>VendedorID</th>\n",
       "      <th>ClienteID</th>\n",
       "      <th>Data</th>\n",
       "      <th>Total</th>\n",
       "    </tr>\n",
       "  </thead>\n",
       "  <tbody>\n",
       "    <tr>\n",
       "      <th>0</th>\n",
       "      <td>1</td>\n",
       "      <td>1</td>\n",
       "      <td>91</td>\n",
       "      <td>1/1/2019</td>\n",
       "      <td>8053.60</td>\n",
       "    </tr>\n",
       "    <tr>\n",
       "      <th>1</th>\n",
       "      <td>2</td>\n",
       "      <td>6</td>\n",
       "      <td>185</td>\n",
       "      <td>1/1/2020</td>\n",
       "      <td>150.40</td>\n",
       "    </tr>\n",
       "    <tr>\n",
       "      <th>2</th>\n",
       "      <td>3</td>\n",
       "      <td>7</td>\n",
       "      <td>31</td>\n",
       "      <td>2/1/2020</td>\n",
       "      <td>6087.00</td>\n",
       "    </tr>\n",
       "    <tr>\n",
       "      <th>3</th>\n",
       "      <td>4</td>\n",
       "      <td>5</td>\n",
       "      <td>31</td>\n",
       "      <td>2/1/2019</td>\n",
       "      <td>13828.60</td>\n",
       "    </tr>\n",
       "    <tr>\n",
       "      <th>4</th>\n",
       "      <td>5</td>\n",
       "      <td>5</td>\n",
       "      <td>31</td>\n",
       "      <td>3/1/2018</td>\n",
       "      <td>26096.66</td>\n",
       "    </tr>\n",
       "    <tr>\n",
       "      <th>...</th>\n",
       "      <td>...</td>\n",
       "      <td>...</td>\n",
       "      <td>...</td>\n",
       "      <td>...</td>\n",
       "      <td>...</td>\n",
       "    </tr>\n",
       "    <tr>\n",
       "      <th>395</th>\n",
       "      <td>396</td>\n",
       "      <td>5</td>\n",
       "      <td>103</td>\n",
       "      <td>23/12/2018</td>\n",
       "      <td>10415.38</td>\n",
       "    </tr>\n",
       "    <tr>\n",
       "      <th>396</th>\n",
       "      <td>397</td>\n",
       "      <td>5</td>\n",
       "      <td>58</td>\n",
       "      <td>23/12/2019</td>\n",
       "      <td>16995.20</td>\n",
       "    </tr>\n",
       "    <tr>\n",
       "      <th>397</th>\n",
       "      <td>398</td>\n",
       "      <td>1</td>\n",
       "      <td>58</td>\n",
       "      <td>24/12/2019</td>\n",
       "      <td>5183.30</td>\n",
       "    </tr>\n",
       "    <tr>\n",
       "      <th>398</th>\n",
       "      <td>399</td>\n",
       "      <td>4</td>\n",
       "      <td>58</td>\n",
       "      <td>25/12/2019</td>\n",
       "      <td>14592.63</td>\n",
       "    </tr>\n",
       "    <tr>\n",
       "      <th>399</th>\n",
       "      <td>400</td>\n",
       "      <td>6</td>\n",
       "      <td>224</td>\n",
       "      <td>28/12/2019</td>\n",
       "      <td>18402.00</td>\n",
       "    </tr>\n",
       "  </tbody>\n",
       "</table>\n",
       "<p>400 rows × 5 columns</p>\n",
       "</div>"
      ],
      "text/plain": [
       "     VendasID  VendedorID  ClienteID        Data     Total\n",
       "0           1           1         91    1/1/2019   8053.60\n",
       "1           2           6        185    1/1/2020    150.40\n",
       "2           3           7         31    2/1/2020   6087.00\n",
       "3           4           5         31    2/1/2019  13828.60\n",
       "4           5           5         31    3/1/2018  26096.66\n",
       "..        ...         ...        ...         ...       ...\n",
       "395       396           5        103  23/12/2018  10415.38\n",
       "396       397           5         58  23/12/2019  16995.20\n",
       "397       398           1         58  24/12/2019   5183.30\n",
       "398       399           4         58  25/12/2019  14592.63\n",
       "399       400           6        224  28/12/2019  18402.00\n",
       "\n",
       "[400 rows x 5 columns]"
      ]
     },
     "execution_count": 51,
     "metadata": {},
     "output_type": "execute_result"
    }
   ],
   "source": [
    "vendas.toPandas()"
   ]
  },
  {
   "cell_type": "code",
   "execution_count": 52,
   "id": "a2b2cd6c",
   "metadata": {},
   "outputs": [],
   "source": [
    "itensvendas = spark.read.load('download/Atividades/ItensVendas.parquet')"
   ]
  },
  {
   "cell_type": "code",
   "execution_count": 53,
   "id": "cead0993",
   "metadata": {},
   "outputs": [
    {
     "data": {
      "text/html": [
       "<div>\n",
       "<style scoped>\n",
       "    .dataframe tbody tr th:only-of-type {\n",
       "        vertical-align: middle;\n",
       "    }\n",
       "\n",
       "    .dataframe tbody tr th {\n",
       "        vertical-align: top;\n",
       "    }\n",
       "\n",
       "    .dataframe thead th {\n",
       "        text-align: right;\n",
       "    }\n",
       "</style>\n",
       "<table border=\"1\" class=\"dataframe\">\n",
       "  <thead>\n",
       "    <tr style=\"text-align: right;\">\n",
       "      <th></th>\n",
       "      <th>ProdutoID</th>\n",
       "      <th>VendasID</th>\n",
       "      <th>Quantidade</th>\n",
       "      <th>ValorUnitario</th>\n",
       "      <th>ValorTotal</th>\n",
       "      <th>Desconto</th>\n",
       "      <th>TotalComDesconto</th>\n",
       "    </tr>\n",
       "  </thead>\n",
       "  <tbody>\n",
       "    <tr>\n",
       "      <th>0</th>\n",
       "      <td>2</td>\n",
       "      <td>400</td>\n",
       "      <td>2</td>\n",
       "      <td>9201.00</td>\n",
       "      <td>18402.00</td>\n",
       "      <td>6256,68</td>\n",
       "      <td>12145.32</td>\n",
       "    </tr>\n",
       "    <tr>\n",
       "      <th>1</th>\n",
       "      <td>2</td>\n",
       "      <td>385</td>\n",
       "      <td>2</td>\n",
       "      <td>9201.00</td>\n",
       "      <td>18402.00</td>\n",
       "      <td>5704,62</td>\n",
       "      <td>12697.38</td>\n",
       "    </tr>\n",
       "    <tr>\n",
       "      <th>2</th>\n",
       "      <td>4</td>\n",
       "      <td>395</td>\n",
       "      <td>2</td>\n",
       "      <td>6892.20</td>\n",
       "      <td>13784.40</td>\n",
       "      <td>5100,23</td>\n",
       "      <td>8684.17</td>\n",
       "    </tr>\n",
       "    <tr>\n",
       "      <th>3</th>\n",
       "      <td>4</td>\n",
       "      <td>367</td>\n",
       "      <td>2</td>\n",
       "      <td>6509.30</td>\n",
       "      <td>13018.60</td>\n",
       "      <td>4816,88</td>\n",
       "      <td>8201.72</td>\n",
       "    </tr>\n",
       "    <tr>\n",
       "      <th>4</th>\n",
       "      <td>2</td>\n",
       "      <td>380</td>\n",
       "      <td>2</td>\n",
       "      <td>7038.77</td>\n",
       "      <td>14077.54</td>\n",
       "      <td>4364,04</td>\n",
       "      <td>9713.50</td>\n",
       "    </tr>\n",
       "    <tr>\n",
       "      <th>...</th>\n",
       "      <td>...</td>\n",
       "      <td>...</td>\n",
       "      <td>...</td>\n",
       "      <td>...</td>\n",
       "      <td>...</td>\n",
       "      <td>...</td>\n",
       "      <td>...</td>\n",
       "    </tr>\n",
       "    <tr>\n",
       "      <th>935</th>\n",
       "      <td>10</td>\n",
       "      <td>56</td>\n",
       "      <td>1</td>\n",
       "      <td>91.80</td>\n",
       "      <td>91.80</td>\n",
       "      <td>-</td>\n",
       "      <td>91.80</td>\n",
       "    </tr>\n",
       "    <tr>\n",
       "      <th>936</th>\n",
       "      <td>9</td>\n",
       "      <td>56</td>\n",
       "      <td>1</td>\n",
       "      <td>87.98</td>\n",
       "      <td>87.98</td>\n",
       "      <td>-</td>\n",
       "      <td>87.98</td>\n",
       "    </tr>\n",
       "    <tr>\n",
       "      <th>937</th>\n",
       "      <td>9</td>\n",
       "      <td>65</td>\n",
       "      <td>1</td>\n",
       "      <td>87.98</td>\n",
       "      <td>87.98</td>\n",
       "      <td>-</td>\n",
       "      <td>87.98</td>\n",
       "    </tr>\n",
       "    <tr>\n",
       "      <th>938</th>\n",
       "      <td>9</td>\n",
       "      <td>34</td>\n",
       "      <td>1</td>\n",
       "      <td>78.20</td>\n",
       "      <td>78.20</td>\n",
       "      <td>-</td>\n",
       "      <td>78.20</td>\n",
       "    </tr>\n",
       "    <tr>\n",
       "      <th>939</th>\n",
       "      <td>9</td>\n",
       "      <td>48</td>\n",
       "      <td>1</td>\n",
       "      <td>78.20</td>\n",
       "      <td>78.20</td>\n",
       "      <td>-</td>\n",
       "      <td>78.20</td>\n",
       "    </tr>\n",
       "  </tbody>\n",
       "</table>\n",
       "<p>940 rows × 7 columns</p>\n",
       "</div>"
      ],
      "text/plain": [
       "     ProdutoID  VendasID  Quantidade  ValorUnitario  ValorTotal Desconto  \\\n",
       "0            2       400           2        9201.00    18402.00  6256,68   \n",
       "1            2       385           2        9201.00    18402.00  5704,62   \n",
       "2            4       395           2        6892.20    13784.40  5100,23   \n",
       "3            4       367           2        6509.30    13018.60  4816,88   \n",
       "4            2       380           2        7038.77    14077.54  4364,04   \n",
       "..         ...       ...         ...            ...         ...      ...   \n",
       "935         10        56           1          91.80       91.80      -     \n",
       "936          9        56           1          87.98       87.98      -     \n",
       "937          9        65           1          87.98       87.98      -     \n",
       "938          9        34           1          78.20       78.20      -     \n",
       "939          9        48           1          78.20       78.20      -     \n",
       "\n",
       "     TotalComDesconto  \n",
       "0            12145.32  \n",
       "1            12697.38  \n",
       "2             8684.17  \n",
       "3             8201.72  \n",
       "4             9713.50  \n",
       "..                ...  \n",
       "935             91.80  \n",
       "936             87.98  \n",
       "937             87.98  \n",
       "938             78.20  \n",
       "939             78.20  \n",
       "\n",
       "[940 rows x 7 columns]"
      ]
     },
     "execution_count": 53,
     "metadata": {},
     "output_type": "execute_result"
    }
   ],
   "source": [
    "itensvendas.toPandas()"
   ]
  },
  {
   "cell_type": "code",
   "execution_count": 54,
   "id": "a0133898",
   "metadata": {},
   "outputs": [],
   "source": [
    "produtos = spark.read.load('download/Atividades/Produtos.parquet')"
   ]
  },
  {
   "cell_type": "code",
   "execution_count": 55,
   "id": "8acf72c4",
   "metadata": {},
   "outputs": [
    {
     "data": {
      "text/html": [
       "<div>\n",
       "<style scoped>\n",
       "    .dataframe tbody tr th:only-of-type {\n",
       "        vertical-align: middle;\n",
       "    }\n",
       "\n",
       "    .dataframe tbody tr th {\n",
       "        vertical-align: top;\n",
       "    }\n",
       "\n",
       "    .dataframe thead th {\n",
       "        text-align: right;\n",
       "    }\n",
       "</style>\n",
       "<table border=\"1\" class=\"dataframe\">\n",
       "  <thead>\n",
       "    <tr style=\"text-align: right;\">\n",
       "      <th></th>\n",
       "      <th>ProdutoID</th>\n",
       "      <th>Produto</th>\n",
       "      <th>Preco</th>\n",
       "    </tr>\n",
       "  </thead>\n",
       "  <tbody>\n",
       "    <tr>\n",
       "      <th>0</th>\n",
       "      <td>1</td>\n",
       "      <td>Bicicleta Aro 29 Mountain Bike Endorphine 6.3 ...</td>\n",
       "      <td>8.852,00</td>\n",
       "    </tr>\n",
       "    <tr>\n",
       "      <th>1</th>\n",
       "      <td>2</td>\n",
       "      <td>Bicicleta Altools Stroll Aro 26 Freio À Disco ...</td>\n",
       "      <td>9.201,00</td>\n",
       "    </tr>\n",
       "    <tr>\n",
       "      <th>2</th>\n",
       "      <td>3</td>\n",
       "      <td>Bicicleta Gts Advanced 1.0 Aro 29 Freio Disco ...</td>\n",
       "      <td>4.255,00</td>\n",
       "    </tr>\n",
       "    <tr>\n",
       "      <th>3</th>\n",
       "      <td>4</td>\n",
       "      <td>Bicicleta Trinc Câmbios Shimano Aro 29 Freio A...</td>\n",
       "      <td>7.658,00</td>\n",
       "    </tr>\n",
       "    <tr>\n",
       "      <th>4</th>\n",
       "      <td>5</td>\n",
       "      <td>Bicicleta Gometws Endorphine 7.3 - Shimano Alu...</td>\n",
       "      <td>2.966,00</td>\n",
       "    </tr>\n",
       "    <tr>\n",
       "      <th>5</th>\n",
       "      <td>6</td>\n",
       "      <td>Bicicleta Gometws Endorphine 6.1 Shimano Alumí...</td>\n",
       "      <td>2.955,00</td>\n",
       "    </tr>\n",
       "    <tr>\n",
       "      <th>6</th>\n",
       "      <td>7</td>\n",
       "      <td>Capacete Gometws Endorphine 2.0</td>\n",
       "      <td>155,00</td>\n",
       "    </tr>\n",
       "    <tr>\n",
       "      <th>7</th>\n",
       "      <td>8</td>\n",
       "      <td>Luva De Ciclismo - Gometws Sports</td>\n",
       "      <td>188,00</td>\n",
       "    </tr>\n",
       "    <tr>\n",
       "      <th>8</th>\n",
       "      <td>9</td>\n",
       "      <td>Bermuda Predactor 3Xu Pro</td>\n",
       "      <td>115,00</td>\n",
       "    </tr>\n",
       "    <tr>\n",
       "      <th>9</th>\n",
       "      <td>10</td>\n",
       "      <td>Camiseta Predactor 3Xu Multiplied</td>\n",
       "      <td>135,00</td>\n",
       "    </tr>\n",
       "  </tbody>\n",
       "</table>\n",
       "</div>"
      ],
      "text/plain": [
       "   ProdutoID                                            Produto      Preco\n",
       "0          1  Bicicleta Aro 29 Mountain Bike Endorphine 6.3 ...  8.852,00 \n",
       "1          2  Bicicleta Altools Stroll Aro 26 Freio À Disco ...  9.201,00 \n",
       "2          3  Bicicleta Gts Advanced 1.0 Aro 29 Freio Disco ...  4.255,00 \n",
       "3          4  Bicicleta Trinc Câmbios Shimano Aro 29 Freio A...  7.658,00 \n",
       "4          5  Bicicleta Gometws Endorphine 7.3 - Shimano Alu...  2.966,00 \n",
       "5          6  Bicicleta Gometws Endorphine 6.1 Shimano Alumí...  2.955,00 \n",
       "6          7                    Capacete Gometws Endorphine 2.0    155,00 \n",
       "7          8                  Luva De Ciclismo - Gometws Sports    188,00 \n",
       "8          9                          Bermuda Predactor 3Xu Pro    115,00 \n",
       "9         10                  Camiseta Predactor 3Xu Multiplied    135,00 "
      ]
     },
     "execution_count": 55,
     "metadata": {},
     "output_type": "execute_result"
    }
   ],
   "source": [
    "produtos.toPandas()"
   ]
  },
  {
   "cell_type": "code",
   "execution_count": 56,
   "id": "3d0cbde5",
   "metadata": {},
   "outputs": [],
   "source": [
    "vendedores = spark.read.load('download/Atividades/Vendedores.parquet')"
   ]
  },
  {
   "cell_type": "code",
   "execution_count": 57,
   "id": "fb332994",
   "metadata": {},
   "outputs": [
    {
     "data": {
      "text/html": [
       "<div>\n",
       "<style scoped>\n",
       "    .dataframe tbody tr th:only-of-type {\n",
       "        vertical-align: middle;\n",
       "    }\n",
       "\n",
       "    .dataframe tbody tr th {\n",
       "        vertical-align: top;\n",
       "    }\n",
       "\n",
       "    .dataframe thead th {\n",
       "        text-align: right;\n",
       "    }\n",
       "</style>\n",
       "<table border=\"1\" class=\"dataframe\">\n",
       "  <thead>\n",
       "    <tr style=\"text-align: right;\">\n",
       "      <th></th>\n",
       "      <th>VendedorID</th>\n",
       "      <th>Vendedor</th>\n",
       "    </tr>\n",
       "  </thead>\n",
       "  <tbody>\n",
       "    <tr>\n",
       "      <th>0</th>\n",
       "      <td>1</td>\n",
       "      <td>Armando Lago</td>\n",
       "    </tr>\n",
       "    <tr>\n",
       "      <th>1</th>\n",
       "      <td>2</td>\n",
       "      <td>Capitolino Bahía</td>\n",
       "    </tr>\n",
       "    <tr>\n",
       "      <th>2</th>\n",
       "      <td>3</td>\n",
       "      <td>Daniel Pirajá</td>\n",
       "    </tr>\n",
       "    <tr>\n",
       "      <th>3</th>\n",
       "      <td>4</td>\n",
       "      <td>Godo Capiperibe</td>\n",
       "    </tr>\n",
       "    <tr>\n",
       "      <th>4</th>\n",
       "      <td>5</td>\n",
       "      <td>Hélio Liberato</td>\n",
       "    </tr>\n",
       "    <tr>\n",
       "      <th>5</th>\n",
       "      <td>6</td>\n",
       "      <td>Iberê Lacerda</td>\n",
       "    </tr>\n",
       "    <tr>\n",
       "      <th>6</th>\n",
       "      <td>7</td>\n",
       "      <td>Jéssica Castelão</td>\n",
       "    </tr>\n",
       "    <tr>\n",
       "      <th>7</th>\n",
       "      <td>8</td>\n",
       "      <td>Napoleão Méndez</td>\n",
       "    </tr>\n",
       "    <tr>\n",
       "      <th>8</th>\n",
       "      <td>9</td>\n",
       "      <td>Simão Rivero</td>\n",
       "    </tr>\n",
       "    <tr>\n",
       "      <th>9</th>\n",
       "      <td>10</td>\n",
       "      <td>Tobias Furtado</td>\n",
       "    </tr>\n",
       "  </tbody>\n",
       "</table>\n",
       "</div>"
      ],
      "text/plain": [
       "   VendedorID          Vendedor\n",
       "0           1      Armando Lago\n",
       "1           2  Capitolino Bahía\n",
       "2           3     Daniel Pirajá\n",
       "3           4   Godo Capiperibe\n",
       "4           5    Hélio Liberato\n",
       "5           6     Iberê Lacerda\n",
       "6           7  Jéssica Castelão\n",
       "7           8   Napoleão Méndez\n",
       "8           9      Simão Rivero\n",
       "9          10    Tobias Furtado"
      ]
     },
     "execution_count": 57,
     "metadata": {},
     "output_type": "execute_result"
    }
   ],
   "source": [
    "vendedores.toPandas()"
   ]
  },
  {
   "cell_type": "markdown",
   "id": "4ce98d61",
   "metadata": {},
   "source": [
    "### Criando o banco de dados"
   ]
  },
  {
   "cell_type": "code",
   "execution_count": 58,
   "id": "81062c8f",
   "metadata": {},
   "outputs": [],
   "source": [
    "## banco já criado spark.sql('create database VendasVarejo').show()"
   ]
  },
  {
   "cell_type": "code",
   "execution_count": 59,
   "id": "63e4a92b",
   "metadata": {},
   "outputs": [
    {
     "name": "stderr",
     "output_type": "stream",
     "text": [
      "22/03/16 22:13:22 WARN ObjectStore: Failed to get database vendasvarejo, returning NoSuchObjectException\n"
     ]
    },
    {
     "ename": "AnalysisException",
     "evalue": "Database 'vendasvarejo' not found",
     "output_type": "error",
     "traceback": [
      "\u001b[0;31m---------------------------------------------------------------------------\u001b[0m",
      "\u001b[0;31mAnalysisException\u001b[0m                         Traceback (most recent call last)",
      "Input \u001b[0;32mIn [59]\u001b[0m, in \u001b[0;36m<cell line: 1>\u001b[0;34m()\u001b[0m\n\u001b[0;32m----> 1\u001b[0m \u001b[43mspark\u001b[49m\u001b[38;5;241;43m.\u001b[39;49m\u001b[43msql\u001b[49m\u001b[43m(\u001b[49m\u001b[38;5;124;43m'\u001b[39;49m\u001b[38;5;124;43muse VendasVarejo\u001b[39;49m\u001b[38;5;124;43m'\u001b[39;49m\u001b[43m)\u001b[49m\u001b[38;5;241m.\u001b[39mshow()\n",
      "File \u001b[0;32m/opt/spark/python/pyspark/sql/session.py:723\u001b[0m, in \u001b[0;36mSparkSession.sql\u001b[0;34m(self, sqlQuery)\u001b[0m\n\u001b[1;32m    707\u001b[0m \u001b[38;5;28;01mdef\u001b[39;00m \u001b[38;5;21msql\u001b[39m(\u001b[38;5;28mself\u001b[39m, sqlQuery):\n\u001b[1;32m    708\u001b[0m     \u001b[38;5;124;03m\"\"\"Returns a :class:`DataFrame` representing the result of the given query.\u001b[39;00m\n\u001b[1;32m    709\u001b[0m \n\u001b[1;32m    710\u001b[0m \u001b[38;5;124;03m    .. versionadded:: 2.0.0\u001b[39;00m\n\u001b[0;32m   (...)\u001b[0m\n\u001b[1;32m    721\u001b[0m \u001b[38;5;124;03m    [Row(f1=1, f2='row1'), Row(f1=2, f2='row2'), Row(f1=3, f2='row3')]\u001b[39;00m\n\u001b[1;32m    722\u001b[0m \u001b[38;5;124;03m    \"\"\"\u001b[39;00m\n\u001b[0;32m--> 723\u001b[0m     \u001b[38;5;28;01mreturn\u001b[39;00m DataFrame(\u001b[38;5;28;43mself\u001b[39;49m\u001b[38;5;241;43m.\u001b[39;49m\u001b[43m_jsparkSession\u001b[49m\u001b[38;5;241;43m.\u001b[39;49m\u001b[43msql\u001b[49m\u001b[43m(\u001b[49m\u001b[43msqlQuery\u001b[49m\u001b[43m)\u001b[49m, \u001b[38;5;28mself\u001b[39m\u001b[38;5;241m.\u001b[39m_wrapped)\n",
      "File \u001b[0;32m/opt/spark/python/lib/py4j-0.10.9-src.zip/py4j/java_gateway.py:1304\u001b[0m, in \u001b[0;36mJavaMember.__call__\u001b[0;34m(self, *args)\u001b[0m\n\u001b[1;32m   1298\u001b[0m command \u001b[38;5;241m=\u001b[39m proto\u001b[38;5;241m.\u001b[39mCALL_COMMAND_NAME \u001b[38;5;241m+\u001b[39m\\\n\u001b[1;32m   1299\u001b[0m     \u001b[38;5;28mself\u001b[39m\u001b[38;5;241m.\u001b[39mcommand_header \u001b[38;5;241m+\u001b[39m\\\n\u001b[1;32m   1300\u001b[0m     args_command \u001b[38;5;241m+\u001b[39m\\\n\u001b[1;32m   1301\u001b[0m     proto\u001b[38;5;241m.\u001b[39mEND_COMMAND_PART\n\u001b[1;32m   1303\u001b[0m answer \u001b[38;5;241m=\u001b[39m \u001b[38;5;28mself\u001b[39m\u001b[38;5;241m.\u001b[39mgateway_client\u001b[38;5;241m.\u001b[39msend_command(command)\n\u001b[0;32m-> 1304\u001b[0m return_value \u001b[38;5;241m=\u001b[39m \u001b[43mget_return_value\u001b[49m\u001b[43m(\u001b[49m\n\u001b[1;32m   1305\u001b[0m \u001b[43m    \u001b[49m\u001b[43manswer\u001b[49m\u001b[43m,\u001b[49m\u001b[43m \u001b[49m\u001b[38;5;28;43mself\u001b[39;49m\u001b[38;5;241;43m.\u001b[39;49m\u001b[43mgateway_client\u001b[49m\u001b[43m,\u001b[49m\u001b[43m \u001b[49m\u001b[38;5;28;43mself\u001b[39;49m\u001b[38;5;241;43m.\u001b[39;49m\u001b[43mtarget_id\u001b[49m\u001b[43m,\u001b[49m\u001b[43m \u001b[49m\u001b[38;5;28;43mself\u001b[39;49m\u001b[38;5;241;43m.\u001b[39;49m\u001b[43mname\u001b[49m\u001b[43m)\u001b[49m\n\u001b[1;32m   1307\u001b[0m \u001b[38;5;28;01mfor\u001b[39;00m temp_arg \u001b[38;5;129;01min\u001b[39;00m temp_args:\n\u001b[1;32m   1308\u001b[0m     temp_arg\u001b[38;5;241m.\u001b[39m_detach()\n",
      "File \u001b[0;32m/opt/spark/python/pyspark/sql/utils.py:117\u001b[0m, in \u001b[0;36mcapture_sql_exception.<locals>.deco\u001b[0;34m(*a, **kw)\u001b[0m\n\u001b[1;32m    113\u001b[0m converted \u001b[38;5;241m=\u001b[39m convert_exception(e\u001b[38;5;241m.\u001b[39mjava_exception)\n\u001b[1;32m    114\u001b[0m \u001b[38;5;28;01mif\u001b[39;00m \u001b[38;5;129;01mnot\u001b[39;00m \u001b[38;5;28misinstance\u001b[39m(converted, UnknownException):\n\u001b[1;32m    115\u001b[0m     \u001b[38;5;66;03m# Hide where the exception came from that shows a non-Pythonic\u001b[39;00m\n\u001b[1;32m    116\u001b[0m     \u001b[38;5;66;03m# JVM exception message.\u001b[39;00m\n\u001b[0;32m--> 117\u001b[0m     \u001b[38;5;28;01mraise\u001b[39;00m converted \u001b[38;5;28;01mfrom\u001b[39;00m \u001b[38;5;28mNone\u001b[39m\n\u001b[1;32m    118\u001b[0m \u001b[38;5;28;01melse\u001b[39;00m:\n\u001b[1;32m    119\u001b[0m     \u001b[38;5;28;01mraise\u001b[39;00m\n",
      "\u001b[0;31mAnalysisException\u001b[0m: Database 'vendasvarejo' not found"
     ]
    }
   ],
   "source": [
    "spark.sql('use VendasVarejo').show()"
   ]
  },
  {
   "cell_type": "markdown",
   "id": "e7d73feb",
   "metadata": {},
   "source": [
    "### Inserindo os dados nas tabelas"
   ]
  },
  {
   "cell_type": "code",
   "execution_count": null,
   "id": "c25f9d04",
   "metadata": {},
   "outputs": [],
   "source": [
    "clientes.write.saveAsTable('clientes')"
   ]
  },
  {
   "cell_type": "code",
   "execution_count": null,
   "id": "69802845",
   "metadata": {},
   "outputs": [],
   "source": [
    "vendas.write.saveAsTable('vendas')"
   ]
  },
  {
   "cell_type": "code",
   "execution_count": null,
   "id": "69fc185e",
   "metadata": {},
   "outputs": [],
   "source": [
    "itensvendas.write.saveAsTable('itensvendas')"
   ]
  },
  {
   "cell_type": "code",
   "execution_count": null,
   "id": "a9f07abd",
   "metadata": {},
   "outputs": [],
   "source": [
    "produtos.write.saveAsTable('produtos')"
   ]
  },
  {
   "cell_type": "code",
   "execution_count": null,
   "id": "cbd57afe",
   "metadata": {},
   "outputs": [],
   "source": [
    "vendedores.write.saveAsTable('vendedores')"
   ]
  },
  {
   "cell_type": "code",
   "execution_count": null,
   "id": "3039c6c4",
   "metadata": {},
   "outputs": [],
   "source": [
    "spark.sql('show tables').show()"
   ]
  },
  {
   "cell_type": "code",
   "execution_count": null,
   "id": "96b43276",
   "metadata": {},
   "outputs": [],
   "source": [
    "spark.sql('select * from produtos').show()"
   ]
  },
  {
   "cell_type": "code",
   "execution_count": null,
   "id": "05beba73",
   "metadata": {},
   "outputs": [],
   "source": [
    "spark.sql('use VendasVarejo')"
   ]
  },
  {
   "cell_type": "code",
   "execution_count": null,
   "id": "ad7c6032",
   "metadata": {},
   "outputs": [],
   "source": [
    "spark.sql('select c.cliente, v.data, p.produto, vd.vendedor, iv.valortotal\\\n",
    "          from itensvendas iv\\\n",
    "          inner join produtos p on    (p.produtoid = iv.produtoid)\\\n",
    "          inner join vendas v on      (v.vendasid  = iv.vendasid)\\\n",
    "          inner join vendedores vd on (vd.vendedorid = v.vendedorid)\\\n",
    "          inner join clientes c on    (c.clienteid = v.clienteid)').toPandas()"
   ]
  },
  {
   "cell_type": "code",
   "execution_count": null,
   "id": "2044ee3a",
   "metadata": {},
   "outputs": [],
   "source": [
    "spark.sql('select count(*) from itensvendas').show()"
   ]
  },
  {
   "cell_type": "markdown",
   "id": "2bf96f4f",
   "metadata": {},
   "source": [
    "# Lendo dados de um banco de dados PostgreSQL"
   ]
  },
  {
   "cell_type": "markdown",
   "id": "567c1f9d",
   "metadata": {},
   "source": [
    "## Instalando o PostgreSQL"
   ]
  },
  {
   "cell_type": "markdown",
   "id": "6f972506",
   "metadata": {},
   "source": [
    "### Comandos feitos no terminal"
   ]
  },
  {
   "cell_type": "code",
   "execution_count": null,
   "id": "7dc46252",
   "metadata": {},
   "outputs": [],
   "source": [
    "# sudo apt-get update (atualizar os pacotes atuais)\n",
    "# sudo apt-get update && sudo apt-get install postgresql (instalando o postgres)\n"
   ]
  },
  {
   "cell_type": "code",
   "execution_count": null,
   "id": "95389813",
   "metadata": {},
   "outputs": [],
   "source": [
    "# sudo -u postgres psql (logando no postgres)\n",
    "# create database vendas; (criando banco de dados vendas)\n",
    "# \\c vendas;  (conectando ao banco de dados vendas)"
   ]
  },
  {
   "cell_type": "markdown",
   "id": "b6d43f23",
   "metadata": {},
   "source": [
    "## Lendo os Scripts para criação das tabelas e inserção"
   ]
  },
  {
   "cell_type": "code",
   "execution_count": null,
   "id": "329f9253",
   "metadata": {},
   "outputs": [],
   "source": [
    "# \\i /home/bruno/download/demo/1.CreateTable.sql\n",
    "# \\i /home/bruno/download/demo/2.InsertClientes.sql\n",
    "# \\i /home/bruno/download/demo/3.InsertIntoProdutos.sql\n",
    "# \\i /home/bruno/download/demo/2.InsertIntoVendedor.sql\n",
    "# \\i /home/bruno/download/demo/2.InsertIntoVendas.sql\n",
    "# \\i /home/bruno/download/demo/2.InsertItensVenda.sql"
   ]
  },
  {
   "cell_type": "code",
   "execution_count": null,
   "id": "5294825e",
   "metadata": {},
   "outputs": [],
   "source": [
    "# \\dt (listando tabelas)"
   ]
  },
  {
   "cell_type": "code",
   "execution_count": null,
   "id": "bcb7a89d",
   "metadata": {},
   "outputs": [],
   "source": [
    "# \\password (criando a senha para o usuário)"
   ]
  },
  {
   "cell_type": "markdown",
   "id": "282695ef",
   "metadata": {},
   "source": [
    "## Baixando o driver JDBC para Postgres"
   ]
  },
  {
   "cell_type": "code",
   "execution_count": null,
   "id": "4a6a3249",
   "metadata": {},
   "outputs": [],
   "source": [
    "# pyspark --jars postgresql-42.3.3.jar (iniciando o pyspark carregando o driver)"
   ]
  },
  {
   "cell_type": "code",
   "execution_count": null,
   "id": "a703e307",
   "metadata": {},
   "outputs": [],
   "source": [
    "from pyspark.sql import SparkSession"
   ]
  },
  {
   "cell_type": "markdown",
   "id": "4f96f588",
   "metadata": {},
   "source": [
    "### Conectando a tabela de vendas"
   ]
  },
  {
   "cell_type": "code",
   "execution_count": null,
   "id": "94637e5c",
   "metadata": {
    "scrolled": true
   },
   "outputs": [],
   "source": [
    "vendas = spark.read.format('jdbc')\\\n",
    "        .option('url', 'jdbc:postgresql://localhost:5432/vendas')\\\n",
    "        .option('dbtable', 'vendas')\\\n",
    "        .option('user', 'postgres')\\\n",
    "        .option('password', '19941994')\\\n",
    "        .option('driver', 'org.postgresql.Driver')\\\n",
    "        .load()"
   ]
  },
  {
   "cell_type": "code",
   "execution_count": null,
   "id": "2fb8f581",
   "metadata": {},
   "outputs": [],
   "source": [
    "vendas.toPandas()"
   ]
  },
  {
   "cell_type": "markdown",
   "id": "b56e0fe3",
   "metadata": {},
   "source": [
    "### Conectando a tabela de clientes"
   ]
  },
  {
   "cell_type": "code",
   "execution_count": null,
   "id": "04b74195",
   "metadata": {},
   "outputs": [],
   "source": [
    "clientes = spark.read.format('jdbc')\\\n",
    "        .option('url', 'jdbc:postgresql://localhost:5432/vendas')\\\n",
    "        .option('dbtable', 'clientes')\\\n",
    "        .option('user', 'postgres')\\\n",
    "        .option('password', '19941994')\\\n",
    "        .option('driver', 'org.postgresql.Driver')\\\n",
    "        .load()"
   ]
  },
  {
   "cell_type": "code",
   "execution_count": null,
   "id": "847d826c",
   "metadata": {},
   "outputs": [],
   "source": [
    "clientes.toPandas()"
   ]
  },
  {
   "cell_type": "code",
   "execution_count": null,
   "id": "d5e800d7",
   "metadata": {},
   "outputs": [],
   "source": [
    "vendadata = vendas.select('data','total')"
   ]
  },
  {
   "cell_type": "code",
   "execution_count": null,
   "id": "876167f1",
   "metadata": {},
   "outputs": [],
   "source": [
    "vendadata.toPandas()"
   ]
  },
  {
   "cell_type": "markdown",
   "id": "982d3c0b",
   "metadata": {},
   "source": [
    "## Salvando o dataframe em uma tabela do banco"
   ]
  },
  {
   "cell_type": "code",
   "execution_count": null,
   "id": "80fcdf83",
   "metadata": {},
   "outputs": [],
   "source": [
    "vendadata.write.format('jdbc')\\\n",
    "        .option('url', 'jdbc:postgresql://localhost:5432/vendas')\\\n",
    "        .option('dbtable', 'vendadata')\\\n",
    "        .option('user', 'postgres')\\\n",
    "        .option('password', '19941994')\\\n",
    "        .option('driver', 'org.postgresql.Driver')\\\n",
    "        .save()"
   ]
  },
  {
   "cell_type": "markdown",
   "id": "6cfbe31d",
   "metadata": {},
   "source": [
    "# Instalando o MongoDB"
   ]
  },
  {
   "cell_type": "code",
   "execution_count": null,
   "id": "a4c236a9",
   "metadata": {},
   "outputs": [],
   "source": [
    "# wget -qO - https://www.mongodb.org/static/pgp/server-5.0.asc | sudo apt-key add - (baixando e instalando o mongo) \n",
    "# echo \"deb [ arch=amd64,arm64 ] https://repo.mongodb.org/apt/ubuntu focal/mongodb-org/5.0 multiverse\" | sudo tee /etc/apt/sources.list.d/mongodb-org-5.0.list\n",
    "# sudo apt-get update\n",
    "# sudo apt-get install -y mongodb-org"
   ]
  },
  {
   "cell_type": "code",
   "execution_count": null,
   "id": "4248a812",
   "metadata": {},
   "outputs": [],
   "source": [
    "# sudo systemctl start mongod (iniciando o mongo)\n",
    "# sudo systemctl enable mongod (configurando para inicializar automaticamente)\n",
    "# mongosh (acessando o console do mongo)"
   ]
  },
  {
   "cell_type": "markdown",
   "id": "a7b0c85a",
   "metadata": {},
   "source": [
    "## Importando dados para o mongo"
   ]
  },
  {
   "cell_type": "code",
   "execution_count": null,
   "id": "016625fc",
   "metadata": {},
   "outputs": [],
   "source": [
    "# mongoimport --db posts --collection post --legacy --file ;home/bruno/download/mongo/posts.json (importando os dados para o banco)"
   ]
  },
  {
   "cell_type": "code",
   "execution_count": null,
   "id": "36981809",
   "metadata": {},
   "outputs": [],
   "source": [
    "# show dbs (visualizando os bancos de dados)\n",
    "# use posts (mudando para o banco posts)\n",
    "# db.post.find() (visualizando todos os registros do banco de dados)"
   ]
  },
  {
   "cell_type": "code",
   "execution_count": null,
   "id": "a260bb96",
   "metadata": {},
   "outputs": [],
   "source": [
    "# pyspark --packages org.mongodb.spark:mongo-spark-connector_2.12:3.0.1 (instalando o pacote do mongo)"
   ]
  },
  {
   "cell_type": "markdown",
   "id": "e12c4d84",
   "metadata": {},
   "source": [
    "### Lendo a coleção"
   ]
  },
  {
   "cell_type": "code",
   "execution_count": null,
   "id": "1c582fe0",
   "metadata": {},
   "outputs": [],
   "source": [
    "posts = spark.read.format('mongo').option('uri', 'mongodb://127.0.0.1/posts.post').load()"
   ]
  },
  {
   "cell_type": "code",
   "execution_count": null,
   "id": "a6279d38",
   "metadata": {},
   "outputs": [],
   "source": [
    "posts.toPandas()"
   ]
  },
  {
   "cell_type": "markdown",
   "id": "fed37ae4",
   "metadata": {},
   "source": [
    "### Salvando o dataframe no banco"
   ]
  },
  {
   "cell_type": "code",
   "execution_count": null,
   "id": "aae779fe",
   "metadata": {},
   "outputs": [],
   "source": [
    "posts.write.format('mongo').option('uri', 'mongodb://127.0.0.1/posts2.post').save()"
   ]
  },
  {
   "cell_type": "markdown",
   "id": "ebdc4a6f",
   "metadata": {},
   "source": [
    "# Módulo Spark com Jupyter"
   ]
  },
  {
   "cell_type": "code",
   "execution_count": 60,
   "id": "566083e1",
   "metadata": {},
   "outputs": [],
   "source": [
    "# importando a biblioteca pandas\n",
    "import pandas as pd"
   ]
  },
  {
   "cell_type": "code",
   "execution_count": 62,
   "id": "b8979581",
   "metadata": {},
   "outputs": [],
   "source": [
    "#lendo um arquivo csv\n",
    "churn = pd.read_csv('/home/bruno/download/Churn.csv',sep = ';')"
   ]
  },
  {
   "cell_type": "code",
   "execution_count": 63,
   "id": "159df4f6",
   "metadata": {},
   "outputs": [
    {
     "data": {
      "text/html": [
       "<div>\n",
       "<style scoped>\n",
       "    .dataframe tbody tr th:only-of-type {\n",
       "        vertical-align: middle;\n",
       "    }\n",
       "\n",
       "    .dataframe tbody tr th {\n",
       "        vertical-align: top;\n",
       "    }\n",
       "\n",
       "    .dataframe thead th {\n",
       "        text-align: right;\n",
       "    }\n",
       "</style>\n",
       "<table border=\"1\" class=\"dataframe\">\n",
       "  <thead>\n",
       "    <tr style=\"text-align: right;\">\n",
       "      <th></th>\n",
       "      <th>CreditScore</th>\n",
       "      <th>Geography</th>\n",
       "      <th>Gender</th>\n",
       "      <th>Age</th>\n",
       "      <th>Tenure</th>\n",
       "      <th>Balance</th>\n",
       "      <th>NumOfProducts</th>\n",
       "      <th>HasCrCard</th>\n",
       "      <th>IsActiveMember</th>\n",
       "      <th>EstimatedSalary</th>\n",
       "      <th>Exited</th>\n",
       "    </tr>\n",
       "  </thead>\n",
       "  <tbody>\n",
       "    <tr>\n",
       "      <th>0</th>\n",
       "      <td>619</td>\n",
       "      <td>France</td>\n",
       "      <td>Female</td>\n",
       "      <td>42</td>\n",
       "      <td>2</td>\n",
       "      <td>0</td>\n",
       "      <td>1</td>\n",
       "      <td>1</td>\n",
       "      <td>1</td>\n",
       "      <td>10134888</td>\n",
       "      <td>1</td>\n",
       "    </tr>\n",
       "    <tr>\n",
       "      <th>1</th>\n",
       "      <td>608</td>\n",
       "      <td>Spain</td>\n",
       "      <td>Female</td>\n",
       "      <td>41</td>\n",
       "      <td>1</td>\n",
       "      <td>8380786</td>\n",
       "      <td>1</td>\n",
       "      <td>0</td>\n",
       "      <td>1</td>\n",
       "      <td>11254258</td>\n",
       "      <td>0</td>\n",
       "    </tr>\n",
       "  </tbody>\n",
       "</table>\n",
       "</div>"
      ],
      "text/plain": [
       "   CreditScore Geography  Gender  Age  Tenure  Balance  NumOfProducts  \\\n",
       "0          619    France  Female   42       2        0              1   \n",
       "1          608     Spain  Female   41       1  8380786              1   \n",
       "\n",
       "   HasCrCard  IsActiveMember  EstimatedSalary  Exited  \n",
       "0          1               1         10134888       1  \n",
       "1          0               1         11254258       0  "
      ]
     },
     "execution_count": 63,
     "metadata": {},
     "output_type": "execute_result"
    }
   ],
   "source": [
    "churn.head(2)"
   ]
  },
  {
   "cell_type": "code",
   "execution_count": 78,
   "id": "6da09ef4",
   "metadata": {},
   "outputs": [
    {
     "data": {
      "text/html": [
       "<div>\n",
       "<style scoped>\n",
       "    .dataframe tbody tr th:only-of-type {\n",
       "        vertical-align: middle;\n",
       "    }\n",
       "\n",
       "    .dataframe tbody tr th {\n",
       "        vertical-align: top;\n",
       "    }\n",
       "\n",
       "    .dataframe thead th {\n",
       "        text-align: right;\n",
       "    }\n",
       "</style>\n",
       "<table border=\"1\" class=\"dataframe\">\n",
       "  <thead>\n",
       "    <tr style=\"text-align: right;\">\n",
       "      <th></th>\n",
       "      <th>CreditScore</th>\n",
       "      <th>Geography</th>\n",
       "      <th>Gender</th>\n",
       "      <th>Age</th>\n",
       "    </tr>\n",
       "  </thead>\n",
       "  <tbody>\n",
       "    <tr>\n",
       "      <th>1</th>\n",
       "      <td>608</td>\n",
       "      <td>Spain</td>\n",
       "      <td>Female</td>\n",
       "      <td>41</td>\n",
       "    </tr>\n",
       "    <tr>\n",
       "      <th>2</th>\n",
       "      <td>502</td>\n",
       "      <td>France</td>\n",
       "      <td>Female</td>\n",
       "      <td>42</td>\n",
       "    </tr>\n",
       "    <tr>\n",
       "      <th>3</th>\n",
       "      <td>699</td>\n",
       "      <td>France</td>\n",
       "      <td>Female</td>\n",
       "      <td>39</td>\n",
       "    </tr>\n",
       "  </tbody>\n",
       "</table>\n",
       "</div>"
      ],
      "text/plain": [
       "   CreditScore Geography  Gender  Age\n",
       "1          608     Spain  Female   41\n",
       "2          502    France  Female   42\n",
       "3          699    France  Female   39"
      ]
     },
     "execution_count": 78,
     "metadata": {},
     "output_type": "execute_result"
    }
   ],
   "source": [
    "churn.iloc[1:4, 0:4]"
   ]
  },
  {
   "cell_type": "code",
   "execution_count": 79,
   "id": "0ee21e16",
   "metadata": {},
   "outputs": [
    {
     "data": {
      "text/plain": [
       "count    10000.000000\n",
       "mean       650.528800\n",
       "std         96.653299\n",
       "min        350.000000\n",
       "25%        584.000000\n",
       "50%        652.000000\n",
       "75%        718.000000\n",
       "max        850.000000\n",
       "Name: CreditScore, dtype: float64"
      ]
     },
     "execution_count": 79,
     "metadata": {},
     "output_type": "execute_result"
    }
   ],
   "source": [
    "churn['CreditScore'].describe()"
   ]
  },
  {
   "cell_type": "code",
   "execution_count": 81,
   "id": "8e2b3898",
   "metadata": {},
   "outputs": [
    {
     "name": "stdout",
     "output_type": "stream",
     "text": [
      "Geography\n",
      "France     5014\n",
      "Germany    2509\n",
      "Spain      2477\n",
      "dtype: int64\n"
     ]
    }
   ],
   "source": [
    "agrupado = churn.groupby(['Geography']).size()\n",
    "print(agrupado)"
   ]
  },
  {
   "cell_type": "code",
   "execution_count": 67,
   "id": "dd150253",
   "metadata": {},
   "outputs": [
    {
     "data": {
      "text/plain": [
       "pandas.core.frame.DataFrame"
      ]
     },
     "execution_count": 67,
     "metadata": {},
     "output_type": "execute_result"
    }
   ],
   "source": [
    "# verificando o tipo\n",
    "type(churn)"
   ]
  },
  {
   "cell_type": "code",
   "execution_count": 69,
   "id": "ab992af7",
   "metadata": {},
   "outputs": [],
   "source": [
    "# criando novamente a sessão\n",
    "spark = SparkSession.builder.appName(\"Pandas\").getOrCreate()"
   ]
  },
  {
   "cell_type": "code",
   "execution_count": 70,
   "id": "f56ebdbd",
   "metadata": {},
   "outputs": [],
   "source": [
    "# criando dataframe do pyspark\n",
    "churn_df = spark.createDataFrame(churn)"
   ]
  },
  {
   "cell_type": "code",
   "execution_count": 73,
   "id": "b9305464",
   "metadata": {},
   "outputs": [
    {
     "data": {
      "text/plain": [
       "pyspark.sql.dataframe.DataFrame"
      ]
     },
     "execution_count": 73,
     "metadata": {},
     "output_type": "execute_result"
    }
   ],
   "source": [
    "type(churn_df)"
   ]
  },
  {
   "cell_type": "code",
   "execution_count": 72,
   "id": "b5e6a25b",
   "metadata": {},
   "outputs": [
    {
     "name": "stdout",
     "output_type": "stream",
     "text": [
      "+-----------+---------+------+---+------+--------+-------------+---------+--------------+---------------+------+\n",
      "|CreditScore|Geography|Gender|Age|Tenure| Balance|NumOfProducts|HasCrCard|IsActiveMember|EstimatedSalary|Exited|\n",
      "+-----------+---------+------+---+------+--------+-------------+---------+--------------+---------------+------+\n",
      "|        619|   France|Female| 42|     2|       0|            1|        1|             1|       10134888|     1|\n",
      "|        608|    Spain|Female| 41|     1| 8380786|            1|        0|             1|       11254258|     0|\n",
      "|        502|   France|Female| 42|     8| 1596608|            3|        1|             0|       11393157|     1|\n",
      "|        699|   France|Female| 39|     1|       0|            2|        0|             0|        9382663|     0|\n",
      "|        850|    Spain|Female| 43|     2|12551082|            1|        1|             1|         790841|     0|\n",
      "|        645|    Spain|  Male| 44|     8|11375578|            2|        1|             0|       14975671|     1|\n",
      "|        822|   France|  Male| 50|     7|       0|            2|        1|             1|         100628|     0|\n",
      "|        376|  Germany|Female| 29|     4|11504674|            4|        1|             0|       11934688|     1|\n",
      "|        501|   France|  Male| 44|     4|14205107|            2|        0|             1|         749405|     0|\n",
      "|        684|   France|  Male| 27|     2|13460388|            1|        1|             1|        7172573|     0|\n",
      "|        528|   France|  Male| 31|     6|10201672|            2|        0|             0|        8018112|     0|\n",
      "|        497|    Spain|  Male| 24|     3|       0|            2|        1|             0|        7639001|     0|\n",
      "|        476|   France|Female| 34|    10|       0|            2|        1|             0|        2626098|     0|\n",
      "|        549|   France|Female| 25|     5|       0|            2|        0|             0|       19085779|     0|\n",
      "|        635|    Spain|Female| 35|     7|       0|            2|        1|             1|        6595165|     0|\n",
      "|        616|  Germany|  Male| 45|     3|14312941|            2|        0|             1|        6432726|     0|\n",
      "|        653|  Germany|  Male| 58|     1|13260288|            1|        1|             0|         509767|     1|\n",
      "|        549|    Spain|Female| 24|     9|       0|            2|        1|             1|        1440641|     0|\n",
      "|        587|    Spain|  Male| 45|     6|       0|            1|        0|             0|       15868481|     0|\n",
      "|        726|   France|Female| 24|     6|       0|            2|        1|             1|        5472403|     0|\n",
      "+-----------+---------+------+---+------+--------+-------------+---------+--------------+---------------+------+\n",
      "only showing top 20 rows\n",
      "\n"
     ]
    }
   ],
   "source": [
    "churn_df.show()"
   ]
  },
  {
   "cell_type": "code",
   "execution_count": 74,
   "id": "6a449ebe",
   "metadata": {},
   "outputs": [],
   "source": [
    "# convertendo em um DataFrame do pandas"
   ]
  },
  {
   "cell_type": "code",
   "execution_count": 75,
   "id": "7f569ec9",
   "metadata": {},
   "outputs": [],
   "source": [
    "pandas = churn_df.toPandas()"
   ]
  },
  {
   "cell_type": "code",
   "execution_count": 76,
   "id": "3e1784b3",
   "metadata": {},
   "outputs": [
    {
     "data": {
      "text/plain": [
       "pandas.core.frame.DataFrame"
      ]
     },
     "execution_count": 76,
     "metadata": {},
     "output_type": "execute_result"
    }
   ],
   "source": [
    "type(pandas)"
   ]
  },
  {
   "cell_type": "code",
   "execution_count": 77,
   "id": "0b60d408",
   "metadata": {},
   "outputs": [
    {
     "data": {
      "text/html": [
       "<div>\n",
       "<style scoped>\n",
       "    .dataframe tbody tr th:only-of-type {\n",
       "        vertical-align: middle;\n",
       "    }\n",
       "\n",
       "    .dataframe tbody tr th {\n",
       "        vertical-align: top;\n",
       "    }\n",
       "\n",
       "    .dataframe thead th {\n",
       "        text-align: right;\n",
       "    }\n",
       "</style>\n",
       "<table border=\"1\" class=\"dataframe\">\n",
       "  <thead>\n",
       "    <tr style=\"text-align: right;\">\n",
       "      <th></th>\n",
       "      <th>CreditScore</th>\n",
       "      <th>Geography</th>\n",
       "      <th>Gender</th>\n",
       "      <th>Age</th>\n",
       "      <th>Tenure</th>\n",
       "      <th>Balance</th>\n",
       "      <th>NumOfProducts</th>\n",
       "      <th>HasCrCard</th>\n",
       "      <th>IsActiveMember</th>\n",
       "      <th>EstimatedSalary</th>\n",
       "      <th>Exited</th>\n",
       "    </tr>\n",
       "  </thead>\n",
       "  <tbody>\n",
       "    <tr>\n",
       "      <th>0</th>\n",
       "      <td>619</td>\n",
       "      <td>France</td>\n",
       "      <td>Female</td>\n",
       "      <td>42</td>\n",
       "      <td>2</td>\n",
       "      <td>0</td>\n",
       "      <td>1</td>\n",
       "      <td>1</td>\n",
       "      <td>1</td>\n",
       "      <td>10134888</td>\n",
       "      <td>1</td>\n",
       "    </tr>\n",
       "    <tr>\n",
       "      <th>1</th>\n",
       "      <td>608</td>\n",
       "      <td>Spain</td>\n",
       "      <td>Female</td>\n",
       "      <td>41</td>\n",
       "      <td>1</td>\n",
       "      <td>8380786</td>\n",
       "      <td>1</td>\n",
       "      <td>0</td>\n",
       "      <td>1</td>\n",
       "      <td>11254258</td>\n",
       "      <td>0</td>\n",
       "    </tr>\n",
       "  </tbody>\n",
       "</table>\n",
       "</div>"
      ],
      "text/plain": [
       "   CreditScore Geography  Gender  Age  Tenure  Balance  NumOfProducts  \\\n",
       "0          619    France  Female   42       2        0              1   \n",
       "1          608     Spain  Female   41       1  8380786              1   \n",
       "\n",
       "   HasCrCard  IsActiveMember  EstimatedSalary  Exited  \n",
       "0          1               1         10134888       1  \n",
       "1          0               1         11254258       0  "
      ]
     },
     "execution_count": 77,
     "metadata": {},
     "output_type": "execute_result"
    }
   ],
   "source": [
    "pandas.head(2)"
   ]
  }
 ],
 "metadata": {
  "kernelspec": {
   "display_name": "Python 3 (ipykernel)",
   "language": "python",
   "name": "python3"
  },
  "language_info": {
   "codemirror_mode": {
    "name": "ipython",
    "version": 3
   },
   "file_extension": ".py",
   "mimetype": "text/x-python",
   "name": "python",
   "nbconvert_exporter": "python",
   "pygments_lexer": "ipython3",
   "version": "3.8.10"
  }
 },
 "nbformat": 4,
 "nbformat_minor": 5
}
